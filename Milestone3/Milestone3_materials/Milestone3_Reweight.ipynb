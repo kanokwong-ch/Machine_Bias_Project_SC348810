{
 "cells": [
  {
   "cell_type": "code",
   "execution_count": 1,
   "metadata": {},
   "outputs": [],
   "source": [
    "import pandas as pd\n",
    "import numpy as np\n",
    "import matplotlib.pyplot as plt\n",
    "import seaborn as sns\n",
    "import missingno as msno\n",
    "sns.set(style=\"darkgrid\")\n",
    "\n",
    "import time\n",
    "import os\n",
    "import psutil\n",
    "import pickle"
   ]
  },
  {
   "cell_type": "markdown",
   "metadata": {},
   "source": [
    "## Preaprea Data"
   ]
  },
  {
   "cell_type": "code",
   "execution_count": 2,
   "metadata": {},
   "outputs": [],
   "source": [
    "# Read data file\n",
    "data_file = './CleanAdult.csv'\n",
    "data_df = pd.read_csv(data_file)"
   ]
  },
  {
   "cell_type": "code",
   "execution_count": 3,
   "metadata": {},
   "outputs": [
    {
     "data": {
      "image/png": "[encoded data removed]",
      "text/plain": [
       "<Figure size 648x360 with 1 Axes>"
      ]
     },
     "metadata": {
      "needs_background": "light"
     },
     "output_type": "display_data"
    }
   ],
   "source": [
    "# Plot label\n",
    "plt.figure(figsize=(9, 5))\n",
    "plt.title('Income Count Comparison')\n",
    "ax1 = sns.countplot(data=data_df, x='income', label='Count')\n",
    "for container in ax1.containers:\n",
    "    ax1.bar_label(container)\n",
    "\n",
    "plt.xlabel('Income Class')\n",
    "plt.ylabel('Count')\n",
    "plt.show()"
   ]
  },
  {
   "cell_type": "code",
   "execution_count": 7,
   "metadata": {},
   "outputs": [
    {
     "name": "stdout",
     "output_type": "stream",
     "text": [
      "Quartile 1 Age: 28.0\n",
      "Quartile 2 Age: 37.0\n",
      "Quartile 3 Age: 48.0\n",
      "Quartile 4 Age: 90.0\n"
     ]
    }
   ],
   "source": [
    "# Check quarter of age\n",
    "age_q1 = data_df['age'].quantile(0.25)\n",
    "age_q2 = data_df['age'].quantile(0.50)\n",
    "age_q3 = data_df['age'].quantile(0.75)\n",
    "age_q4 = data_df['age'].quantile(1.00)\n",
    "age_iqr = age_q3 - age_q1\n",
    "\n",
    "\n",
    "print(f'Quartile 1 Age: {age_q1}')\n",
    "print(f'Quartile 2 Age: {age_q2}')\n",
    "print(f'Quartile 3 Age: {age_q3}')\n",
    "print(f'Quartile 4 Age: {age_q4}')"
   ]
  },
  {
   "cell_type": "code",
   "execution_count": 8,
   "metadata": {},
   "outputs": [],
   "source": [
    "lower_bound = age_q1 - 1.0 * age_iqr\n",
    "upper_bound = age_q3 + 1.0 * age_iqr\n",
    "# Remove outliers\n",
    "data_df_v2 = data_df[(data_df['age'] >= lower_bound) & (data_df['age'] <= upper_bound)]"
   ]
  },
  {
   "cell_type": "code",
   "execution_count": 9,
   "metadata": {},
   "outputs": [
    {
     "data": {
      "image/png": "[encoded data removed]",
      "text/plain": [
       "<Figure size 648x360 with 1 Axes>"
      ]
     },
     "metadata": {
      "needs_background": "light"
     },
     "output_type": "display_data"
    }
   ],
   "source": [
    "# Plot label\n",
    "plt.figure(figsize=(9, 5))\n",
    "plt.title('Income Count Comparison')\n",
    "ax1 = sns.countplot(data=data_df_v2, x='income', label='Count')\n",
    "for container in ax1.containers:\n",
    "    ax1.bar_label(container)\n",
    "\n",
    "plt.xlabel('Income Class')\n",
    "plt.ylabel('Count')\n",
    "plt.show()"
   ]
  },
  {
   "cell_type": "markdown",
   "metadata": {},
   "source": [
    "## Fairness Model Part"
   ]
  },
  {
   "cell_type": "code",
   "execution_count": 10,
   "metadata": {},
   "outputs": [],
   "source": [
    "from sklearn.ensemble import RandomForestClassifier, VotingClassifier\n",
    "from sklearn.neural_network import MLPClassifier\n",
    "from sklearn.svm import SVC\n",
    "from lightgbm import LGBMClassifier\n",
    "from sklearn.linear_model import LogisticRegression\n",
    "from sklearn.neighbors import KNeighborsClassifier\n",
    "#from xgboost import XGBClassifier\n",
    "from sklearn.metrics import classification_report, confusion_matrix\n",
    "from mlxtend.plotting import plot_confusion_matrix\n",
    "from sklearn.metrics import f1_score ,accuracy_score, recall_score, precision_score\n",
    "from sklearn.model_selection import train_test_split\n",
    "from sklearn.preprocessing import StandardScaler, OneHotEncoder, OrdinalEncoder\n",
    "from sklearn.compose import ColumnTransformer"
   ]
  },
  {
   "cell_type": "code",
   "execution_count": 11,
   "metadata": {},
   "outputs": [],
   "source": [
    "class_names = ['<=50k', '>50k']"
   ]
  },
  {
   "cell_type": "code",
   "execution_count": 12,
   "metadata": {},
   "outputs": [],
   "source": [
    "# Encode category data\n",
    "categorical_columns = ['workclass', 'education', 'marital.status', 'occupation', 'relationship', 'race', 'sex', 'native.country']\n",
    "categorical_data = data_df[categorical_columns]\n",
    "\n",
    "encoder = OrdinalEncoder()\n",
    "encoded_categorical_data = encoder.fit_transform(categorical_data)\n",
    "\n",
    "# Replace the original categorical columns with the encoded values\n",
    "data_df[categorical_columns] = encoded_categorical_data"
   ]
  },
  {
   "cell_type": "code",
   "execution_count": 13,
   "metadata": {},
   "outputs": [],
   "source": [
    "X = data_df_v2.drop(columns= ['income', 'fnlwgt', 'education'])\n",
    "Y = data_df_v2['income']\n",
    "\n",
    "# Split train test\n",
    "x_train, x_test, y_train, y_test = train_test_split(X, Y, test_size=0.3, random_state=13)"
   ]
  },
  {
   "cell_type": "code",
   "execution_count": 14,
   "metadata": {},
   "outputs": [
    {
     "name": "stderr",
     "output_type": "stream",
     "text": [
      "Using `tqdm.autonotebook.tqdm` in notebook mode. Use `tqdm.tqdm` instead to force console mode (e.g. in jupyter console)\n"
     ]
    }
   ],
   "source": [
    "from aif360.metrics import BinaryLabelDatasetMetric\n",
    "from aif360.datasets import BinaryLabelDataset\n",
    "from aif360.algorithms.preprocessing import Reweighing\n",
    "from aif360.algorithms.inprocessing import AdversarialDebiasing\n",
    "from aif360.algorithms.postprocessing import CalibratedEqOddsPostprocessing\n",
    "\n",
    "from aif360.sklearn.metrics import equal_opportunity_difference, average_odds_difference"
   ]
  },
  {
   "cell_type": "code",
   "execution_count": 15,
   "metadata": {},
   "outputs": [
    {
     "data": {
      "text/html": [
       "<div>\n",
       "<style scoped>\n",
       "    .dataframe tbody tr th:only-of-type {\n",
       "        vertical-align: middle;\n",
       "    }\n",
       "\n",
       "    .dataframe tbody tr th {\n",
       "        vertical-align: top;\n",
       "    }\n",
       "\n",
       "    .dataframe thead th {\n",
       "        text-align: right;\n",
       "    }\n",
       "</style>\n",
       "<table border=\"1\" class=\"dataframe\">\n",
       "  <thead>\n",
       "    <tr style=\"text-align: right;\">\n",
       "      <th></th>\n",
       "      <th>age</th>\n",
       "      <th>workclass</th>\n",
       "      <th>education.num</th>\n",
       "      <th>marital.status</th>\n",
       "      <th>occupation</th>\n",
       "      <th>relationship</th>\n",
       "      <th>race</th>\n",
       "      <th>sex</th>\n",
       "      <th>capital.gain</th>\n",
       "      <th>capital.loss</th>\n",
       "      <th>hours.per.week</th>\n",
       "      <th>native.country</th>\n",
       "    </tr>\n",
       "  </thead>\n",
       "  <tbody>\n",
       "    <tr>\n",
       "      <th>6118</th>\n",
       "      <td>46</td>\n",
       "      <td>3.0</td>\n",
       "      <td>9</td>\n",
       "      <td>0.0</td>\n",
       "      <td>2.0</td>\n",
       "      <td>2.0</td>\n",
       "      <td>4.0</td>\n",
       "      <td>1.0</td>\n",
       "      <td>0</td>\n",
       "      <td>0</td>\n",
       "      <td>40</td>\n",
       "      <td>38.0</td>\n",
       "    </tr>\n",
       "    <tr>\n",
       "      <th>28366</th>\n",
       "      <td>38</td>\n",
       "      <td>3.0</td>\n",
       "      <td>13</td>\n",
       "      <td>2.0</td>\n",
       "      <td>2.0</td>\n",
       "      <td>0.0</td>\n",
       "      <td>4.0</td>\n",
       "      <td>1.0</td>\n",
       "      <td>0</td>\n",
       "      <td>0</td>\n",
       "      <td>45</td>\n",
       "      <td>38.0</td>\n",
       "    </tr>\n",
       "    <tr>\n",
       "      <th>18276</th>\n",
       "      <td>25</td>\n",
       "      <td>1.0</td>\n",
       "      <td>13</td>\n",
       "      <td>4.0</td>\n",
       "      <td>0.0</td>\n",
       "      <td>2.0</td>\n",
       "      <td>2.0</td>\n",
       "      <td>0.0</td>\n",
       "      <td>0</td>\n",
       "      <td>0</td>\n",
       "      <td>40</td>\n",
       "      <td>38.0</td>\n",
       "    </tr>\n",
       "    <tr>\n",
       "      <th>14502</th>\n",
       "      <td>40</td>\n",
       "      <td>3.0</td>\n",
       "      <td>9</td>\n",
       "      <td>0.0</td>\n",
       "      <td>0.0</td>\n",
       "      <td>4.0</td>\n",
       "      <td>4.0</td>\n",
       "      <td>0.0</td>\n",
       "      <td>0</td>\n",
       "      <td>0</td>\n",
       "      <td>50</td>\n",
       "      <td>38.0</td>\n",
       "    </tr>\n",
       "    <tr>\n",
       "      <th>22595</th>\n",
       "      <td>23</td>\n",
       "      <td>3.0</td>\n",
       "      <td>3</td>\n",
       "      <td>4.0</td>\n",
       "      <td>5.0</td>\n",
       "      <td>1.0</td>\n",
       "      <td>4.0</td>\n",
       "      <td>1.0</td>\n",
       "      <td>0</td>\n",
       "      <td>0</td>\n",
       "      <td>55</td>\n",
       "      <td>25.0</td>\n",
       "    </tr>\n",
       "    <tr>\n",
       "      <th>...</th>\n",
       "      <td>...</td>\n",
       "      <td>...</td>\n",
       "      <td>...</td>\n",
       "      <td>...</td>\n",
       "      <td>...</td>\n",
       "      <td>...</td>\n",
       "      <td>...</td>\n",
       "      <td>...</td>\n",
       "      <td>...</td>\n",
       "      <td>...</td>\n",
       "      <td>...</td>\n",
       "      <td>...</td>\n",
       "    </tr>\n",
       "    <tr>\n",
       "      <th>5332</th>\n",
       "      <td>37</td>\n",
       "      <td>3.0</td>\n",
       "      <td>10</td>\n",
       "      <td>2.0</td>\n",
       "      <td>0.0</td>\n",
       "      <td>0.0</td>\n",
       "      <td>4.0</td>\n",
       "      <td>1.0</td>\n",
       "      <td>0</td>\n",
       "      <td>0</td>\n",
       "      <td>37</td>\n",
       "      <td>38.0</td>\n",
       "    </tr>\n",
       "    <tr>\n",
       "      <th>17168</th>\n",
       "      <td>28</td>\n",
       "      <td>3.0</td>\n",
       "      <td>13</td>\n",
       "      <td>4.0</td>\n",
       "      <td>5.0</td>\n",
       "      <td>2.0</td>\n",
       "      <td>4.0</td>\n",
       "      <td>1.0</td>\n",
       "      <td>0</td>\n",
       "      <td>0</td>\n",
       "      <td>25</td>\n",
       "      <td>38.0</td>\n",
       "    </tr>\n",
       "    <tr>\n",
       "      <th>10511</th>\n",
       "      <td>27</td>\n",
       "      <td>3.0</td>\n",
       "      <td>10</td>\n",
       "      <td>4.0</td>\n",
       "      <td>0.0</td>\n",
       "      <td>3.0</td>\n",
       "      <td>4.0</td>\n",
       "      <td>1.0</td>\n",
       "      <td>0</td>\n",
       "      <td>0</td>\n",
       "      <td>20</td>\n",
       "      <td>38.0</td>\n",
       "    </tr>\n",
       "    <tr>\n",
       "      <th>21982</th>\n",
       "      <td>55</td>\n",
       "      <td>0.0</td>\n",
       "      <td>14</td>\n",
       "      <td>2.0</td>\n",
       "      <td>3.0</td>\n",
       "      <td>0.0</td>\n",
       "      <td>4.0</td>\n",
       "      <td>1.0</td>\n",
       "      <td>0</td>\n",
       "      <td>0</td>\n",
       "      <td>60</td>\n",
       "      <td>38.0</td>\n",
       "    </tr>\n",
       "    <tr>\n",
       "      <th>2008</th>\n",
       "      <td>44</td>\n",
       "      <td>6.0</td>\n",
       "      <td>15</td>\n",
       "      <td>2.0</td>\n",
       "      <td>9.0</td>\n",
       "      <td>0.0</td>\n",
       "      <td>4.0</td>\n",
       "      <td>1.0</td>\n",
       "      <td>15024</td>\n",
       "      <td>0</td>\n",
       "      <td>75</td>\n",
       "      <td>38.0</td>\n",
       "    </tr>\n",
       "  </tbody>\n",
       "</table>\n",
       "<p>9548 rows × 12 columns</p>\n",
       "</div>"
      ],
      "text/plain": [
       "       age  workclass  education.num  marital.status  occupation  \\\n",
       "6118    46        3.0              9             0.0         2.0   \n",
       "28366   38        3.0             13             2.0         2.0   \n",
       "18276   25        1.0             13             4.0         0.0   \n",
       "14502   40        3.0              9             0.0         0.0   \n",
       "22595   23        3.0              3             4.0         5.0   \n",
       "...    ...        ...            ...             ...         ...   \n",
       "5332    37        3.0             10             2.0         0.0   \n",
       "17168   28        3.0             13             4.0         5.0   \n",
       "10511   27        3.0             10             4.0         0.0   \n",
       "21982   55        0.0             14             2.0         3.0   \n",
       "2008    44        6.0             15             2.0         9.0   \n",
       "\n",
       "       relationship  race  sex  capital.gain  capital.loss  hours.per.week  \\\n",
       "6118            2.0   4.0  1.0             0             0              40   \n",
       "28366           0.0   4.0  1.0             0             0              45   \n",
       "18276           2.0   2.0  0.0             0             0              40   \n",
       "14502           4.0   4.0  0.0             0             0              50   \n",
       "22595           1.0   4.0  1.0             0             0              55   \n",
       "...             ...   ...  ...           ...           ...             ...   \n",
       "5332            0.0   4.0  1.0             0             0              37   \n",
       "17168           2.0   4.0  1.0             0             0              25   \n",
       "10511           3.0   4.0  1.0             0             0              20   \n",
       "21982           0.0   4.0  1.0             0             0              60   \n",
       "2008            0.0   4.0  1.0         15024             0              75   \n",
       "\n",
       "       native.country  \n",
       "6118             38.0  \n",
       "28366            38.0  \n",
       "18276            38.0  \n",
       "14502            38.0  \n",
       "22595            25.0  \n",
       "...               ...  \n",
       "5332             38.0  \n",
       "17168            38.0  \n",
       "10511            38.0  \n",
       "21982            38.0  \n",
       "2008             38.0  \n",
       "\n",
       "[9548 rows x 12 columns]"
      ]
     },
     "execution_count": 15,
     "metadata": {},
     "output_type": "execute_result"
    }
   ],
   "source": [
    "x_test"
   ]
  },
  {
   "cell_type": "markdown",
   "metadata": {},
   "source": [
    "## Reweighing Data"
   ]
  },
  {
   "cell_type": "code",
   "execution_count": 16,
   "metadata": {},
   "outputs": [],
   "source": [
    "# Set protected feature\n",
    "privileged_groups = [{'sex': 1}]  \n",
    "unprivileged_groups = [{'sex': 0}]\n",
    "\n",
    "# Concat label back for right format input\n",
    "tmp_train = pd.concat([x_train, y_train.set_axis(x_train.index)], axis=1)\n",
    "tmp_test = pd.concat([x_test, y_test.set_axis(x_test.index)], axis=1)\n",
    "\n",
    "# Make dataset\n",
    "training_data_format = BinaryLabelDataset(df= tmp_train, label_names=['income'], \n",
    "                             protected_attribute_names=['sex'])"
   ]
  },
  {
   "cell_type": "code",
   "execution_count": 17,
   "metadata": {},
   "outputs": [
    {
     "name": "stdout",
     "output_type": "stream",
     "text": [
      "Original Train Data with difference in mean outcomes between unprivileged and privileged groups: -0.2005\n",
      "Original Train Data Disparate Impact: 0.3531\n"
     ]
    }
   ],
   "source": [
    "# Metric without apply method\n",
    "nonreweight_mat = BinaryLabelDatasetMetric(training_data_format, \n",
    "                                           unprivileged_groups= unprivileged_groups,\n",
    "                                           privileged_groups= privileged_groups)\n",
    "\n",
    "# Check base dataset score\n",
    "print(f'Original Train Data with difference in mean outcomes between unprivileged and privileged groups: {nonreweight_mat.mean_difference():.4f}')\n",
    "print(f'Original Train Data Disparate Impact: {nonreweight_mat.disparate_impact():.4f}')"
   ]
  },
  {
   "cell_type": "code",
   "execution_count": 18,
   "metadata": {},
   "outputs": [
    {
     "name": "stdout",
     "output_type": "stream",
     "text": [
      "Transformed Train Data with difference in mean outcomes between unprivileged and privileged groups: 0.0000\n",
      "Transformed Train Data Disparate Impact: 1.0000\n"
     ]
    }
   ],
   "source": [
    "# Pre-processing: Reweighing method\n",
    "RW = Reweighing(unprivileged_groups=unprivileged_groups, privileged_groups=privileged_groups)\n",
    "rewighted_train_data = RW.fit_transform(training_data_format)\n",
    "\n",
    "# Check score\n",
    "reweight_mat = BinaryLabelDatasetMetric(rewighted_train_data, \n",
    "                                        unprivileged_groups= unprivileged_groups,\n",
    "                                        privileged_groups= privileged_groups)\n",
    "\n",
    "# Check base dataset score\n",
    "print(f'Transformed Train Data with difference in mean outcomes between unprivileged and privileged groups: {reweight_mat.mean_difference():.4f}')\n",
    "print(f'Transformed Train Data Disparate Impact: {reweight_mat.disparate_impact():.4f}')"
   ]
  },
  {
   "cell_type": "code",
   "execution_count": 20,
   "metadata": {},
   "outputs": [],
   "source": [
    "def train_reweight(input_model, model_name, data_file, x_test, y_test):\n",
    "    X_train_reweighted = pd.DataFrame(data_file.features, columns=data_file.feature_names)\n",
    "    y_train_reweighted = data_file.labels.ravel()\n",
    "    # Train\n",
    "    trained_model = input_model.fit(X_train_reweighted, y_train_reweighted)\n",
    "    y_pred = trained_model.predict(x_test)\n",
    "    \n",
    "    # Evaluate the model\n",
    "    accuracy = accuracy_score(y_test, y_pred)\n",
    "    precision = precision_score(y_test, y_pred, average='weighted')\n",
    "    recall = recall_score(y_test, y_pred, average='weighted', zero_division=1)\n",
    "    f1 = f1_score(y_test, y_pred, average='weighted')\n",
    "    eod = equal_opportunity_difference(y_test, y_pred)\n",
    "    aod = average_odds_difference(y_test, y_pred)\n",
    "    # Confusion natric\n",
    "    mat = confusion_matrix(y_test, y_pred)\n",
    "    TN = mat[0][0]\n",
    "    FN = mat[1][0]\n",
    "    TP = mat[1][1]\n",
    "    FP = mat[0][1]\n",
    "    print(f'Accuracy: {accuracy*100:.4f}')\n",
    "    print(f'Recall: {recall*100:.4f}')\n",
    "    print(f'Precision: {precision*100:.4f}')\n",
    "    print(f'F1-Score: {f1*100:.4f}')\n",
    "    print(f'EoD: {eod:.4f}')\n",
    "    print(f'AoD: {aod:.4f}')\n",
    "    print(f'TP: {TP}, FP: {FP}, TN: {TN}, FN: {FN}')\n",
    "    fig , ax = plot_confusion_matrix(conf_mat= mat, figsize=(8, 8),\n",
    "                                     cmap= plt.cm.Blues,\n",
    "                                     class_names= class_names,\n",
    "                                     colorbar= True)\n",
    "    disp = plt.title(f'Confusion Matrix of {model_name} Rewight Prediction')\n",
    "    plt.show()\n",
    "    return trained_model"
   ]
  },
  {
   "cell_type": "markdown",
   "metadata": {},
   "source": [
    "## RF Rewight Model"
   ]
  },
  {
   "cell_type": "code",
   "execution_count": 17,
   "metadata": {},
   "outputs": [
    {
     "name": "stderr",
     "output_type": "stream",
     "text": [
      "Recall is ill-defined and being set to 0.0 due to no true samples. Use `zero_division` parameter to control this behavior.\n",
      "Specificity is ill-defined and being set to 0.0 due to no negative samples. Use `zero_division` parameter to control this behavior.\n",
      "Recall is ill-defined and being set to 0.0 due to no true samples. Use `zero_division` parameter to control this behavior.\n"
     ]
    },
    {
     "name": "stdout",
     "output_type": "stream",
     "text": [
      "Accuracy: 85.3687\n",
      "Recall: 85.3687\n",
      "Precision: 84.8333\n",
      "F1-Score: 84.9813\n",
      "EoD: 0.6247\n",
      "AoD: -0.1504\n",
      "TP: 1425, FP: 541, TN: 6726, FN: 856\n"
     ]
    },
    {
     "data": {
      "image/png": "[encoded data removed]",
      "text/plain": [
       "<Figure size 576x576 with 2 Axes>"
      ]
     },
     "metadata": {
      "needs_background": "light"
     },
     "output_type": "display_data"
    }
   ],
   "source": [
    "# Build model\n",
    "rf_base = RandomForestClassifier(n_estimators=300)\n",
    "reweight_rf_model = train_reweight(rf_base, 'RF Model', rewighted_train_data, x_test, y_test)"
   ]
  },
  {
   "cell_type": "markdown",
   "metadata": {},
   "source": [
    "## LightGBM Model"
   ]
  },
  {
   "cell_type": "code",
   "execution_count": 21,
   "metadata": {},
   "outputs": [
    {
     "name": "stderr",
     "output_type": "stream",
     "text": [
      "Recall is ill-defined and being set to 0.0 due to no true samples. Use `zero_division` parameter to control this behavior.\n",
      "Specificity is ill-defined and being set to 0.0 due to no negative samples. Use `zero_division` parameter to control this behavior.\n",
      "Recall is ill-defined and being set to 0.0 due to no true samples. Use `zero_division` parameter to control this behavior.\n"
     ]
    },
    {
     "name": "stdout",
     "output_type": "stream",
     "text": [
      "Accuracy: 87.1806\n",
      "Recall: 87.1806\n",
      "Precision: 86.7286\n",
      "F1-Score: 86.7962\n",
      "EoD: 0.6545\n",
      "AoD: -0.1427\n",
      "TP: 1493, FP: 436, TN: 6831, FN: 788\n"
     ]
    },
    {
     "data": {
      "image/png": "[encoded data removed]",
      "text/plain": [
       "<Figure size 576x576 with 2 Axes>"
      ]
     },
     "metadata": {
      "needs_background": "light"
     },
     "output_type": "display_data"
    }
   ],
   "source": [
    "# Build model\n",
    "lightGBM_base = LGBMClassifier(n_estimators=300, verbose=-1)\n",
    "reweight_lgbm_model = train_reweight(lightGBM_base, 'LightGBM Model', rewighted_train_data, x_test, y_test)"
   ]
  },
  {
   "cell_type": "markdown",
   "metadata": {},
   "source": [
    "## SVM Model"
   ]
  },
  {
   "cell_type": "code",
   "execution_count": 19,
   "metadata": {},
   "outputs": [
    {
     "name": "stderr",
     "output_type": "stream",
     "text": [
      "Recall is ill-defined and being set to 0.0 due to no true samples. Use `zero_division` parameter to control this behavior.\n",
      "Specificity is ill-defined and being set to 0.0 due to no negative samples. Use `zero_division` parameter to control this behavior.\n",
      "Recall is ill-defined and being set to 0.0 due to no true samples. Use `zero_division` parameter to control this behavior.\n"
     ]
    },
    {
     "name": "stdout",
     "output_type": "stream",
     "text": [
      "Accuracy: 80.1948\n",
      "Recall: 80.1948\n",
      "Precision: 79.0319\n",
      "F1-Score: 76.5241\n",
      "EoD: 0.2701\n",
      "AoD: -0.3494\n",
      "TP: 616, FP: 226, TN: 7041, FN: 1665\n"
     ]
    },
    {
     "data": {
      "image/png": "[encoded data removed]",
      "text/plain": [
       "<Figure size 576x576 with 2 Axes>"
      ]
     },
     "metadata": {
      "needs_background": "light"
     },
     "output_type": "display_data"
    }
   ],
   "source": [
    "svm_base = SVC()\n",
    "reweight_svm_model = train_reweight(svm_base, 'SVM Model', rewighted_train_data, x_test, y_test)"
   ]
  },
  {
   "cell_type": "markdown",
   "metadata": {},
   "source": [
    "## MLP Model"
   ]
  },
  {
   "cell_type": "code",
   "execution_count": 20,
   "metadata": {},
   "outputs": [
    {
     "name": "stdout",
     "output_type": "stream",
     "text": [
      "Accuracy: 83.0017\n",
      "Recall: 83.0017\n",
      "Precision: 82.2199\n",
      "F1-Score: 81.0201\n",
      "EoD: 0.4130\n",
      "AoD: -0.2740\n",
      "TP: 942, FP: 284, TN: 6983, FN: 1339\n"
     ]
    },
    {
     "name": "stderr",
     "output_type": "stream",
     "text": [
      "Recall is ill-defined and being set to 0.0 due to no true samples. Use `zero_division` parameter to control this behavior.\n",
      "Specificity is ill-defined and being set to 0.0 due to no negative samples. Use `zero_division` parameter to control this behavior.\n",
      "Recall is ill-defined and being set to 0.0 due to no true samples. Use `zero_division` parameter to control this behavior.\n"
     ]
    },
    {
     "data": {
      "image/png": "[encoded data removed]",
      "text/plain": [
       "<Figure size 576x576 with 2 Axes>"
      ]
     },
     "metadata": {
      "needs_background": "light"
     },
     "output_type": "display_data"
    }
   ],
   "source": [
    "# Build MLP model\n",
    "mlp_base = MLPClassifier(hidden_layer_sizes=(32, 32), max_iter=400)\n",
    "reweight_mlp_model = train_reweight(mlp_base, 'MLP Model', rewighted_train_data, x_test, y_test)"
   ]
  },
  {
   "cell_type": "markdown",
   "metadata": {},
   "source": [
    "## LR Model"
   ]
  },
  {
   "cell_type": "code",
   "execution_count": 21,
   "metadata": {},
   "outputs": [
    {
     "name": "stderr",
     "output_type": "stream",
     "text": [
      "lbfgs failed to converge (status=1):\n",
      "STOP: TOTAL NO. of ITERATIONS REACHED LIMIT.\n",
      "\n",
      "Increase the number of iterations (max_iter) or scale the data as shown in:\n",
      "    https://scikit-learn.org/stable/modules/preprocessing.html\n",
      "Please also refer to the documentation for alternative solver options:\n",
      "    https://scikit-learn.org/stable/modules/linear_model.html#logistic-regression\n",
      "Recall is ill-defined and being set to 0.0 due to no true samples. Use `zero_division` parameter to control this behavior.\n",
      "Specificity is ill-defined and being set to 0.0 due to no negative samples. Use `zero_division` parameter to control this behavior.\n",
      "Recall is ill-defined and being set to 0.0 due to no true samples. Use `zero_division` parameter to control this behavior.\n"
     ]
    },
    {
     "name": "stdout",
     "output_type": "stream",
     "text": [
      "Accuracy: 80.9384\n",
      "Recall: 80.9384\n",
      "Precision: 79.3777\n",
      "F1-Score: 78.8361\n",
      "EoD: 0.3788\n",
      "AoD: -0.2829\n",
      "TP: 864, FP: 403, TN: 6864, FN: 1417\n"
     ]
    },
    {
     "data": {
      "image/png": "[encoded data removed]",
      "text/plain": [
       "<Figure size 576x576 with 2 Axes>"
      ]
     },
     "metadata": {
      "needs_background": "light"
     },
     "output_type": "display_data"
    }
   ],
   "source": [
    "# Build model\n",
    "lr_base = LogisticRegression()\n",
    "reweight_lr_model = train_reweight(lr_base, 'LR Model', rewighted_train_data, x_test, y_test)"
   ]
  },
  {
   "cell_type": "markdown",
   "metadata": {},
   "source": [
    "## K-NN Model"
   ]
  },
  {
   "cell_type": "code",
   "execution_count": 22,
   "metadata": {},
   "outputs": [
    {
     "name": "stdout",
     "output_type": "stream",
     "text": [
      "Accuracy: 84.6669\n",
      "Recall: 84.6669\n",
      "Precision: 84.1156\n",
      "F1-Score: 84.2880\n",
      "EoD: 0.6142\n",
      "AoD: -0.1527\n",
      "TP: 1401, FP: 584, TN: 6683, FN: 880\n"
     ]
    },
    {
     "name": "stderr",
     "output_type": "stream",
     "text": [
      "Recall is ill-defined and being set to 0.0 due to no true samples. Use `zero_division` parameter to control this behavior.\n",
      "Specificity is ill-defined and being set to 0.0 due to no negative samples. Use `zero_division` parameter to control this behavior.\n",
      "Recall is ill-defined and being set to 0.0 due to no true samples. Use `zero_division` parameter to control this behavior.\n"
     ]
    },
    {
     "data": {
      "image/png": "[encoded data removed]",
      "text/plain": [
       "<Figure size 576x576 with 2 Axes>"
      ]
     },
     "metadata": {
      "needs_background": "light"
     },
     "output_type": "display_data"
    }
   ],
   "source": [
    "# Build\n",
    "knn_base = KNeighborsClassifier(n_neighbors = 7)\n",
    "reweight_knn_model = train_reweight(knn_base, 'K-NN Model', rewighted_train_data, x_test, y_test)"
   ]
  },
  {
   "cell_type": "markdown",
   "metadata": {},
   "source": [
    "## Load RMO Baseline"
   ]
  },
  {
   "cell_type": "code",
   "execution_count": 23,
   "metadata": {},
   "outputs": [],
   "source": [
    "import joblib"
   ]
  },
  {
   "cell_type": "code",
   "execution_count": 24,
   "metadata": {},
   "outputs": [],
   "source": [
    "def old_predict(model, model_name, x_test, y_test):\n",
    "    # Predict\n",
    "    y_pred = model.predict(x_test)\n",
    "    \n",
    "    # Find fairness metric\n",
    "    eod = equal_opportunity_difference(y_test, y_pred)\n",
    "    aod = average_odds_difference(y_test, y_pred)\n",
    "    print(f'{model_name} EoD: {eod:.4f}')\n",
    "    print(f'{model_name} AoD: {aod:.4f}')"
   ]
  },
  {
   "cell_type": "markdown",
   "metadata": {},
   "source": [
    "## Old RF"
   ]
  },
  {
   "cell_type": "code",
   "execution_count": 25,
   "metadata": {},
   "outputs": [
    {
     "name": "stdout",
     "output_type": "stream",
     "text": [
      "EMO RF Model EoD: 0.3157\n",
      "EMO RF Model AoD: -0.3042\n"
     ]
    },
    {
     "name": "stderr",
     "output_type": "stream",
     "text": [
      "Recall is ill-defined and being set to 0.0 due to no true samples. Use `zero_division` parameter to control this behavior.\n",
      "Specificity is ill-defined and being set to 0.0 due to no negative samples. Use `zero_division` parameter to control this behavior.\n",
      "Recall is ill-defined and being set to 0.0 due to no true samples. Use `zero_division` parameter to control this behavior.\n"
     ]
    }
   ],
   "source": [
    "# Load model\n",
    "rf_file = r'C:\\Users\\ASUS\\Desktop\\Learning\\masterDegree\\thirdSemester\\sdForDataScience\\project\\Milestone2\\Milestone2_materials\\model\\rmo_rf.pkl'\n",
    "rf_loaded_model = joblib.load(rf_file)\n",
    "\n",
    "# Find fairness mat\n",
    "old_predict(rf_loaded_model, 'EMO RF Model', x_test, y_test)\n"
   ]
  },
  {
   "cell_type": "code",
   "execution_count": 26,
   "metadata": {},
   "outputs": [
    {
     "name": "stdout",
     "output_type": "stream",
     "text": [
      "EMO LGBM Model EoD: 0.2082\n",
      "EMO LGBM Model AoD: -0.3750\n"
     ]
    },
    {
     "name": "stderr",
     "output_type": "stream",
     "text": [
      "Recall is ill-defined and being set to 0.0 due to no true samples. Use `zero_division` parameter to control this behavior.\n",
      "Specificity is ill-defined and being set to 0.0 due to no negative samples. Use `zero_division` parameter to control this behavior.\n",
      "Recall is ill-defined and being set to 0.0 due to no true samples. Use `zero_division` parameter to control this behavior.\n"
     ]
    }
   ],
   "source": [
    "# Load model\n",
    "lgbm_file = r'C:\\Users\\ASUS\\Desktop\\Learning\\masterDegree\\thirdSemester\\sdForDataScience\\project\\Milestone2\\Milestone2_materials\\model\\rmo_lgbm.pkl'\n",
    "lgbm_loaded_model = joblib.load(lgbm_file)\n",
    "\n",
    "# Find fairness mat\n",
    "old_predict(lgbm_loaded_model, 'EMO LGBM Model', x_test, y_test)\n"
   ]
  },
  {
   "cell_type": "code",
   "execution_count": 27,
   "metadata": {},
   "outputs": [
    {
     "name": "stdout",
     "output_type": "stream",
     "text": [
      "EMO SVM Model EoD: 0.0000\n",
      "EMO SVM Model AoD: -0.5000\n"
     ]
    },
    {
     "name": "stderr",
     "output_type": "stream",
     "text": [
      "Recall is ill-defined and being set to 0.0 due to no true samples. Use `zero_division` parameter to control this behavior.\n",
      "Specificity is ill-defined and being set to 0.0 due to no negative samples. Use `zero_division` parameter to control this behavior.\n",
      "Recall is ill-defined and being set to 0.0 due to no true samples. Use `zero_division` parameter to control this behavior.\n"
     ]
    }
   ],
   "source": [
    "# Load model\n",
    "svm_file = r'C:\\Users\\ASUS\\Desktop\\Learning\\masterDegree\\thirdSemester\\sdForDataScience\\project\\Milestone2\\Milestone2_materials\\model\\rmo_svm.pkl'\n",
    "svm_loaded_model = joblib.load(svm_file)\n",
    "\n",
    "# Find fairness mat\n",
    "old_predict(svm_loaded_model, 'EMO SVM Model', x_test, y_test)\n"
   ]
  },
  {
   "cell_type": "code",
   "execution_count": 28,
   "metadata": {},
   "outputs": [
    {
     "name": "stdout",
     "output_type": "stream",
     "text": [
      "EMO MLP Model EoD: 0.9706\n",
      "EMO MLP Model AoD: 0.4645\n"
     ]
    },
    {
     "name": "stderr",
     "output_type": "stream",
     "text": [
      "Recall is ill-defined and being set to 0.0 due to no true samples. Use `zero_division` parameter to control this behavior.\n",
      "Specificity is ill-defined and being set to 0.0 due to no negative samples. Use `zero_division` parameter to control this behavior.\n",
      "Recall is ill-defined and being set to 0.0 due to no true samples. Use `zero_division` parameter to control this behavior.\n"
     ]
    }
   ],
   "source": [
    "# Load model\n",
    "mlp_file = r'C:\\Users\\ASUS\\Desktop\\Learning\\masterDegree\\thirdSemester\\sdForDataScience\\project\\Milestone2\\Milestone2_materials\\model\\rmo_mlp.pkl'\n",
    "mlp_loaded_model = joblib.load(mlp_file)\n",
    "\n",
    "# Find fairness mat\n",
    "old_predict(mlp_loaded_model, 'EMO MLP Model', x_test, y_test)\n"
   ]
  },
  {
   "cell_type": "code",
   "execution_count": 29,
   "metadata": {},
   "outputs": [
    {
     "name": "stdout",
     "output_type": "stream",
     "text": [
      "EMO LR Model EoD: 1.0000\n",
      "EMO LR Model AoD: 0.5000\n"
     ]
    },
    {
     "name": "stderr",
     "output_type": "stream",
     "text": [
      "Recall is ill-defined and being set to 0.0 due to no true samples. Use `zero_division` parameter to control this behavior.\n",
      "Specificity is ill-defined and being set to 0.0 due to no negative samples. Use `zero_division` parameter to control this behavior.\n",
      "Recall is ill-defined and being set to 0.0 due to no true samples. Use `zero_division` parameter to control this behavior.\n"
     ]
    }
   ],
   "source": [
    "# Load model\n",
    "lr_file = r'C:\\Users\\ASUS\\Desktop\\Learning\\masterDegree\\thirdSemester\\sdForDataScience\\project\\Milestone2\\Milestone2_materials\\model\\rmo_lr.pkl'\n",
    "lr_loaded_model = joblib.load(lr_file)\n",
    "\n",
    "# Find fairness mat\n",
    "old_predict(lr_loaded_model, 'EMO LR Model', x_test, y_test)\n"
   ]
  },
  {
   "cell_type": "code",
   "execution_count": 30,
   "metadata": {},
   "outputs": [
    {
     "name": "stdout",
     "output_type": "stream",
     "text": [
      "EMO K-NN Model EoD: 0.2096\n",
      "EMO K-NN Model AoD: -0.3733\n"
     ]
    },
    {
     "name": "stderr",
     "output_type": "stream",
     "text": [
      "Recall is ill-defined and being set to 0.0 due to no true samples. Use `zero_division` parameter to control this behavior.\n",
      "Specificity is ill-defined and being set to 0.0 due to no negative samples. Use `zero_division` parameter to control this behavior.\n",
      "Recall is ill-defined and being set to 0.0 due to no true samples. Use `zero_division` parameter to control this behavior.\n"
     ]
    }
   ],
   "source": [
    "# Load model\n",
    "knn_file = r'C:\\Users\\ASUS\\Desktop\\Learning\\masterDegree\\thirdSemester\\sdForDataScience\\project\\Milestone2\\Milestone2_materials\\model\\rmo_knn.pkl'\n",
    "knn_loaded_model = joblib.load(knn_file)\n",
    "\n",
    "# Find fairness mat\n",
    "old_predict(knn_loaded_model, 'EMO K-NN Model', x_test, y_test)\n"
   ]
  },
  {
   "cell_type": "code",
   "execution_count": 22,
   "metadata": {},
   "outputs": [
    {
     "data": {
      "text/plain": [
       "LGBMClassifier(n_estimators=300, verbose=-1)"
      ]
     },
     "execution_count": 22,
     "metadata": {},
     "output_type": "execute_result"
    }
   ],
   "source": [
    "reweight_lgbm_model"
   ]
  },
  {
   "cell_type": "code",
   "execution_count": 23,
   "metadata": {},
   "outputs": [],
   "source": [
    "import optuna"
   ]
  },
  {
   "cell_type": "code",
   "execution_count": 120,
   "metadata": {},
   "outputs": [],
   "source": [
    "def objective(trial):\n",
    "    params = {\n",
    "        \"objective\": \"regression\",\n",
    "        \"metric\": \"rmse\",\n",
    "        \"n_estimators\": trial.suggest_int('n_estimators', 100, 500),\n",
    "        \"verbose\": -1,\n",
    "        \"bagging_freq\": 1,\n",
    "        \"learning_rate\": trial.suggest_float(\"learning_rate\", 1e-3, 0.1, log=True),\n",
    "        \"num_leaves\": trial.suggest_int(\"num_leaves\", 2, 30),\n",
    "        \"subsample\": trial.suggest_float(\"subsample\", 0.05, 1.0),\n",
    "        \"colsample_bytree\": trial.suggest_float(\"colsample_bytree\", 0.05, 1.0),\n",
    "        \"min_data_in_leaf\": trial.suggest_int(\"min_data_in_leaf\", 1, 20),\n",
    "    }\n",
    "    X_train_reweighted = pd.DataFrame(rewighted_train_data.features, columns=rewighted_train_data.feature_names)\n",
    "    y_train_reweighted = rewighted_train_data.labels.ravel()\n",
    "    # Train\n",
    "    model = LGBMClassifier(**params)\n",
    "    model.fit(X_train_reweighted, y_train_reweighted)\n",
    "    predictions = model.predict(x_test)\n",
    "    f1 = f1_score(y_test, predictions, average='weighted')\n",
    "    #precision = precision_score(y_test, predictions, average='weighted')\n",
    "    return f1"
   ]
  },
  {
   "cell_type": "code",
   "execution_count": 121,
   "metadata": {},
   "outputs": [
    {
     "name": "stderr",
     "output_type": "stream",
     "text": [
      "[I 2023-10-30 18:50:36,772] A new study created in memory with name: no-name-89b97232-b18c-44d0-9ba0-26ca7417029b\n",
      "[I 2023-10-30 18:50:37,280] Trial 0 finished with value: 0.8705203434873319 and parameters: {'n_estimators': 265, 'learning_rate': 0.07519425176384617, 'num_leaves': 26, 'subsample': 0.6220147839527873, 'colsample_bytree': 0.4636272443368752, 'min_data_in_leaf': 11}. Best is trial 0 with value: 0.8705203434873319.\n",
      "[I 2023-10-30 18:50:37,649] Trial 1 finished with value: 0.7908074423340097 and parameters: {'n_estimators': 369, 'learning_rate': 0.0038074033344864186, 'num_leaves': 7, 'subsample': 0.06447044868721126, 'colsample_bytree': 0.3263635806836071, 'min_data_in_leaf': 6}. Best is trial 0 with value: 0.8705203434873319.\n",
      "[I 2023-10-30 18:50:38,220] Trial 2 finished with value: 0.8675086804118937 and parameters: {'n_estimators': 332, 'learning_rate': 0.031199121079479294, 'num_leaves': 21, 'subsample': 0.2627758524612298, 'colsample_bytree': 0.9463052919733351, 'min_data_in_leaf': 6}. Best is trial 0 with value: 0.8705203434873319.\n",
      "[I 2023-10-30 18:50:38,517] Trial 3 finished with value: 0.8474050512669838 and parameters: {'n_estimators': 207, 'learning_rate': 0.028817780736086387, 'num_leaves': 9, 'subsample': 0.29643749363271854, 'colsample_bytree': 0.14271052386126032, 'min_data_in_leaf': 20}. Best is trial 0 with value: 0.8705203434873319.\n",
      "[I 2023-10-30 18:50:39,006] Trial 4 finished with value: 0.8600168923630848 and parameters: {'n_estimators': 259, 'learning_rate': 0.01602978401595304, 'num_leaves': 14, 'subsample': 0.45266071469258856, 'colsample_bytree': 0.46303130122908825, 'min_data_in_leaf': 17}. Best is trial 0 with value: 0.8705203434873319.\n",
      "[I 2023-10-30 18:50:39,452] Trial 5 finished with value: 0.830882853772793 and parameters: {'n_estimators': 256, 'learning_rate': 0.013399188655451524, 'num_leaves': 26, 'subsample': 0.13042019256819667, 'colsample_bytree': 0.17167241141416784, 'min_data_in_leaf': 8}. Best is trial 0 with value: 0.8705203434873319.\n",
      "[I 2023-10-30 18:50:40,273] Trial 6 finished with value: 0.8421329999149924 and parameters: {'n_estimators': 463, 'learning_rate': 0.0033480100522579434, 'num_leaves': 14, 'subsample': 0.36329132111619744, 'colsample_bytree': 0.5845035984623993, 'min_data_in_leaf': 14}. Best is trial 0 with value: 0.8705203434873319.\n",
      "[I 2023-10-30 18:50:40,751] Trial 7 finished with value: 0.8440940363850601 and parameters: {'n_estimators': 304, 'learning_rate': 0.004580379399566358, 'num_leaves': 17, 'subsample': 0.8357983388338732, 'colsample_bytree': 0.8328685815073522, 'min_data_in_leaf': 3}. Best is trial 0 with value: 0.8705203434873319.\n",
      "[I 2023-10-30 18:50:40,994] Trial 8 finished with value: 0.6578562938984223 and parameters: {'n_estimators': 267, 'learning_rate': 0.001549304545275192, 'num_leaves': 2, 'subsample': 0.9072792549037458, 'colsample_bytree': 0.14659331520479674, 'min_data_in_leaf': 16}. Best is trial 0 with value: 0.8705203434873319.\n",
      "[I 2023-10-30 18:50:41,298] Trial 9 finished with value: 0.870655620292728 and parameters: {'n_estimators': 133, 'learning_rate': 0.09294087605337442, 'num_leaves': 30, 'subsample': 0.5449377624390874, 'colsample_bytree': 0.6072108774736598, 'min_data_in_leaf': 20}. Best is trial 9 with value: 0.870655620292728.\n",
      "[I 2023-10-30 18:50:41,640] Trial 10 finished with value: 0.8686835210809719 and parameters: {'n_estimators': 120, 'learning_rate': 0.08443795715578652, 'num_leaves': 30, 'subsample': 0.6458295466407313, 'colsample_bytree': 0.7032346549390627, 'min_data_in_leaf': 20}. Best is trial 9 with value: 0.870655620292728.\n",
      "[I 2023-10-30 18:50:41,927] Trial 11 finished with value: 0.8697580740851746 and parameters: {'n_estimators': 107, 'learning_rate': 0.08997003822416857, 'num_leaves': 30, 'subsample': 0.6073251013139772, 'colsample_bytree': 0.5787227257641376, 'min_data_in_leaf': 12}. Best is trial 9 with value: 0.870655620292728.\n",
      "[I 2023-10-30 18:50:42,307] Trial 12 finished with value: 0.8680503370494088 and parameters: {'n_estimators': 181, 'learning_rate': 0.09985348950847386, 'num_leaves': 24, 'subsample': 0.7100943209280257, 'colsample_bytree': 0.42025455173991993, 'min_data_in_leaf': 1}. Best is trial 9 with value: 0.870655620292728.\n",
      "[I 2023-10-30 18:50:43,207] Trial 13 finished with value: 0.8714455178431344 and parameters: {'n_estimators': 400, 'learning_rate': 0.04491534617054104, 'num_leaves': 25, 'subsample': 0.49650862911498106, 'colsample_bytree': 0.6927552301478413, 'min_data_in_leaf': 10}. Best is trial 13 with value: 0.8714455178431344.\n",
      "[I 2023-10-30 18:50:44,093] Trial 14 finished with value: 0.868248338052243 and parameters: {'n_estimators': 421, 'learning_rate': 0.04141511388241017, 'num_leaves': 21, 'subsample': 0.47598558004144764, 'colsample_bytree': 0.7365451989454861, 'min_data_in_leaf': 9}. Best is trial 13 with value: 0.8714455178431344.\n",
      "[I 2023-10-30 18:50:45,090] Trial 15 finished with value: 0.8697921422375811 and parameters: {'n_estimators': 497, 'learning_rate': 0.046137243870362755, 'num_leaves': 27, 'subsample': 0.5127005202449096, 'colsample_bytree': 0.6725465506784843, 'min_data_in_leaf': 14}. Best is trial 13 with value: 0.8714455178431344.\n",
      "[I 2023-10-30 18:50:45,778] Trial 16 finished with value: 0.8676869007242596 and parameters: {'n_estimators': 378, 'learning_rate': 0.019262700722752525, 'num_leaves': 22, 'subsample': 0.9903421542215567, 'colsample_bytree': 0.8200089572264206, 'min_data_in_leaf': 17}. Best is trial 13 with value: 0.8714455178431344.\n",
      "[I 2023-10-30 18:50:46,141] Trial 17 finished with value: 0.8676333409993995 and parameters: {'n_estimators': 176, 'learning_rate': 0.053153449593098215, 'num_leaves': 19, 'subsample': 0.7388542509583363, 'colsample_bytree': 0.6009778289865232, 'min_data_in_leaf': 13}. Best is trial 13 with value: 0.8714455178431344.\n",
      "[I 2023-10-30 18:50:46,978] Trial 18 finished with value: 0.8665275490842063 and parameters: {'n_estimators': 412, 'learning_rate': 0.009201754326336175, 'num_leaves': 30, 'subsample': 0.5549514506647846, 'colsample_bytree': 0.9442345193682538, 'min_data_in_leaf': 8}. Best is trial 13 with value: 0.8714455178431344.\n",
      "[I 2023-10-30 18:50:47,700] Trial 19 finished with value: 0.8708029405186559 and parameters: {'n_estimators': 343, 'learning_rate': 0.05575490020996281, 'num_leaves': 24, 'subsample': 0.4015808571999142, 'colsample_bytree': 0.6524541212869007, 'min_data_in_leaf': 5}. Best is trial 13 with value: 0.8714455178431344.\n",
      "[I 2023-10-30 18:50:48,338] Trial 20 finished with value: 0.8674988007994944 and parameters: {'n_estimators': 336, 'learning_rate': 0.026836855745795588, 'num_leaves': 17, 'subsample': 0.39603361796213093, 'colsample_bytree': 0.8094539244117633, 'min_data_in_leaf': 5}. Best is trial 13 with value: 0.8714455178431344.\n",
      "[I 2023-10-30 18:50:49,160] Trial 21 finished with value: 0.870388686430666 and parameters: {'n_estimators': 420, 'learning_rate': 0.05404503533988903, 'num_leaves': 27, 'subsample': 0.5314161065843788, 'colsample_bytree': 0.6382371071799833, 'min_data_in_leaf': 10}. Best is trial 13 with value: 0.8714455178431344.\n",
      "[I 2023-10-30 18:50:49,943] Trial 22 finished with value: 0.8698128694273386 and parameters: {'n_estimators': 374, 'learning_rate': 0.06102103449332045, 'num_leaves': 25, 'subsample': 0.43507196283774974, 'colsample_bytree': 0.5591091138209474, 'min_data_in_leaf': 4}. Best is trial 13 with value: 0.8714455178431344.\n",
      "[I 2023-10-30 18:50:50,561] Trial 23 finished with value: 0.8695917601048145 and parameters: {'n_estimators': 313, 'learning_rate': 0.04044686517210462, 'num_leaves': 24, 'subsample': 0.3495371211559778, 'colsample_bytree': 0.7279438594193018, 'min_data_in_leaf': 2}. Best is trial 13 with value: 0.8714455178431344.\n",
      "[I 2023-10-30 18:50:51,032] Trial 24 finished with value: 0.8693996906457799 and parameters: {'n_estimators': 217, 'learning_rate': 0.0724705583175364, 'num_leaves': 28, 'subsample': 0.5321408960584498, 'colsample_bytree': 0.5232045534322549, 'min_data_in_leaf': 7}. Best is trial 13 with value: 0.8714455178431344.\n",
      "[I 2023-10-30 18:50:51,984] Trial 25 finished with value: 0.8683389355495866 and parameters: {'n_estimators': 466, 'learning_rate': 0.06161968773034973, 'num_leaves': 23, 'subsample': 0.4479864842049897, 'colsample_bytree': 0.6596135514697954, 'min_data_in_leaf': 11}. Best is trial 13 with value: 0.8714455178431344.\n"
     ]
    },
    {
     "name": "stderr",
     "output_type": "stream",
     "text": [
      "[I 2023-10-30 18:50:52,725] Trial 26 finished with value: 0.8647355318455237 and parameters: {'n_estimators': 347, 'learning_rate': 0.0971233089748674, 'num_leaves': 28, 'subsample': 0.2644209616564227, 'colsample_bytree': 0.7397473567786388, 'min_data_in_leaf': 18}. Best is trial 13 with value: 0.8714455178431344.\n",
      "[I 2023-10-30 18:50:53,039] Trial 27 finished with value: 0.8658011830536669 and parameters: {'n_estimators': 145, 'learning_rate': 0.04060321515403683, 'num_leaves': 20, 'subsample': 0.5697225345791387, 'colsample_bytree': 0.6270658047071161, 'min_data_in_leaf': 9}. Best is trial 13 with value: 0.8714455178431344.\n",
      "[I 2023-10-30 18:50:53,935] Trial 28 finished with value: 0.8668979545759296 and parameters: {'n_estimators': 384, 'learning_rate': 0.023052598248104423, 'num_leaves': 28, 'subsample': 0.48956488080821803, 'colsample_bytree': 0.7722939451296615, 'min_data_in_leaf': 15}. Best is trial 13 with value: 0.8714455178431344.\n",
      "[I 2023-10-30 18:50:54,515] Trial 29 finished with value: 0.8705761722326062 and parameters: {'n_estimators': 291, 'learning_rate': 0.07221802900088593, 'num_leaves': 25, 'subsample': 0.642229975402252, 'colsample_bytree': 0.5171759693559959, 'min_data_in_leaf': 12}. Best is trial 13 with value: 0.8714455178431344.\n"
     ]
    }
   ],
   "source": [
    "study = optuna.create_study(directions=['maximize'])\n",
    "study.optimize(objective, n_trials=30)"
   ]
  },
  {
   "cell_type": "code",
   "execution_count": 122,
   "metadata": {},
   "outputs": [
    {
     "name": "stdout",
     "output_type": "stream",
     "text": [
      "Best hyperparameters: {'n_estimators': 400, 'learning_rate': 0.04491534617054104, 'num_leaves': 25, 'subsample': 0.49650862911498106, 'colsample_bytree': 0.6927552301478413, 'min_data_in_leaf': 10}\n",
      "Best F1: 0.8714\n"
     ]
    }
   ],
   "source": [
    "print('Best hyperparameters:', study.best_params)\n",
    "#print('Best hyperparameters:', study.best_trials)\n",
    "print(f'Best F1: {study.best_value:.4f}')"
   ]
  },
  {
   "cell_type": "code",
   "execution_count": 123,
   "metadata": {},
   "outputs": [
    {
     "name": "stdout",
     "output_type": "stream",
     "text": [
      "[LightGBM] [Warning] min_data_in_leaf is set=10, min_child_samples=20 will be ignored. Current value: min_data_in_leaf=10\n",
      "[LightGBM] [Warning] min_data_in_leaf is set=10, min_child_samples=20 will be ignored. Current value: min_data_in_leaf=10\n",
      "[LightGBM] [Info] Number of positive: 5426, number of negative: 16850\n",
      "[LightGBM] [Info] Total Bins 376\n",
      "[LightGBM] [Info] Number of data points in the train set: 22276, number of used features: 12\n",
      "[LightGBM] [Info] [binary:BoostFromScore]: pavg=0.243581 -> initscore=-1.133148\n",
      "[LightGBM] [Info] Start training from score -1.133148\n"
     ]
    }
   ],
   "source": [
    "X_train_reweighted = pd.DataFrame(rewighted_train_data.features, columns=rewighted_train_data.feature_names)\n",
    "y_train_reweighted = rewighted_train_data.labels.ravel()\n",
    "\n",
    "tuned_lgmb_base = LGBMClassifier(**study.best_params, force_col_wise=True)\n",
    "tuned_model = tuned_lgmb_base.fit(X_train_reweighted, y_train_reweighted)"
   ]
  },
  {
   "cell_type": "code",
   "execution_count": 124,
   "metadata": {},
   "outputs": [
    {
     "data": {
      "text/plain": [
       "LGBMClassifier(colsample_bytree=0.6927552301478413, force_col_wise=True,\n",
       "               learning_rate=0.04491534617054104, min_data_in_leaf=10,\n",
       "               n_estimators=400, num_leaves=25, subsample=0.49650862911498106)"
      ]
     },
     "execution_count": 124,
     "metadata": {},
     "output_type": "execute_result"
    }
   ],
   "source": [
    "tuned_model"
   ]
  },
  {
   "cell_type": "code",
   "execution_count": 119,
   "metadata": {},
   "outputs": [
    {
     "name": "stdout",
     "output_type": "stream",
     "text": [
      "[LightGBM] [Warning] min_data_in_leaf is set=11, min_child_samples=20 will be ignored. Current value: min_data_in_leaf=11\n",
      "Accuracy: 87.5157\n",
      "Recall: 87.5157\n",
      "Precision: 87.0632\n",
      "F1-Score: 87.0455\n",
      "EoD: 0.6445\n",
      "AoD: -0.1516\n"
     ]
    },
    {
     "name": "stderr",
     "output_type": "stream",
     "text": [
      "Recall is ill-defined and being set to 0.0 due to no true samples. Use `zero_division` parameter to control this behavior.\n",
      "Specificity is ill-defined and being set to 0.0 due to no negative samples. Use `zero_division` parameter to control this behavior.\n",
      "Recall is ill-defined and being set to 0.0 due to no true samples. Use `zero_division` parameter to control this behavior.\n"
     ]
    },
    {
     "data": {
      "image/png": "[encoded data removed]",
      "text/plain": [
       "<Figure size 576x576 with 2 Axes>"
      ]
     },
     "metadata": {
      "needs_background": "light"
     },
     "output_type": "display_data"
    }
   ],
   "source": [
    "y_pred = tuned_model.predict(x_test)\n",
    "# Evaluate the model\n",
    "accuracy = accuracy_score(y_test, y_pred)\n",
    "precision = precision_score(y_test, y_pred, average='weighted')\n",
    "recall = recall_score(y_test, y_pred, average='weighted', zero_division=1)\n",
    "f1 = f1_score(y_test, y_pred, average='weighted')\n",
    "eod = equal_opportunity_difference(y_test, y_pred)\n",
    "aod = average_odds_difference(y_test, y_pred)\n",
    "print(f'Accuracy: {accuracy*100:.4f}')\n",
    "print(f'Recall: {recall*100:.4f}')\n",
    "print(f'Precision: {precision*100:.4f}')\n",
    "print(f'F1-Score: {f1*100:.4f}')\n",
    "print(f'EoD: {eod:.4f}')\n",
    "print(f'AoD: {aod:.4f}')\n",
    "mat = confusion_matrix(y_test, y_pred)\n",
    "fig , ax = plot_confusion_matrix(conf_mat= mat, figsize=(8, 8),\n",
    "                                     cmap= plt.cm.Blues,\n",
    "                                     class_names= class_names,\n",
    "                                     colorbar= True)\n",
    "disp = plt.title(f'Confusion Matrix of Tuned Model Rewight Prediction')\n",
    "plt.show()"
   ]
  }
 ],
 "metadata": {
  "kernelspec": {
   "display_name": "intern",
   "language": "python",
   "name": "intern"
  },
  "language_info": {
   "codemirror_mode": {
    "name": "ipython",
    "version": 3
   },
   "file_extension": ".py",
   "mimetype": "text/x-python",
   "name": "python",
   "nbconvert_exporter": "python",
   "pygments_lexer": "ipython3",
   "version": "3.7.9"
  }
 },
 "nbformat": 4,
 "nbformat_minor": 4
}
