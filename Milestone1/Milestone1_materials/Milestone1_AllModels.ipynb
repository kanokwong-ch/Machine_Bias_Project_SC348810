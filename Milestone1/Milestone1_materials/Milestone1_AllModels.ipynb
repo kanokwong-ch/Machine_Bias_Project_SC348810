{
 "cells": [
  {
   "cell_type": "code",
   "execution_count": 1,
   "metadata": {},
   "outputs": [],
   "source": [
    "import pandas as pd\n",
    "import numpy as np\n",
    "import matplotlib.pyplot as plt\n",
    "import seaborn as sns\n",
    "import missingno as msno\n",
    "sns.set(style=\"darkgrid\")\n",
    "\n",
    "import time\n",
    "import os\n",
    "import psutil\n",
    "import pickle"
   ]
  },
  {
   "cell_type": "markdown",
   "metadata": {},
   "source": [
    "## Prepare Data"
   ]
  },
  {
   "cell_type": "code",
   "execution_count": 2,
   "metadata": {},
   "outputs": [],
   "source": [
    "# Read data file\n",
    "data_file = './adult.csv'\n",
    "data_df = pd.read_csv(data_file)"
   ]
  },
  {
   "cell_type": "code",
   "execution_count": 3,
   "metadata": {},
   "outputs": [
    {
     "data": {
      "text/html": [
       "<div>\n",
       "<style scoped>\n",
       "    .dataframe tbody tr th:only-of-type {\n",
       "        vertical-align: middle;\n",
       "    }\n",
       "\n",
       "    .dataframe tbody tr th {\n",
       "        vertical-align: top;\n",
       "    }\n",
       "\n",
       "    .dataframe thead th {\n",
       "        text-align: right;\n",
       "    }\n",
       "</style>\n",
       "<table border=\"1\" class=\"dataframe\">\n",
       "  <thead>\n",
       "    <tr style=\"text-align: right;\">\n",
       "      <th></th>\n",
       "      <th>age</th>\n",
       "      <th>workclass</th>\n",
       "      <th>fnlwgt</th>\n",
       "      <th>education</th>\n",
       "      <th>education.num</th>\n",
       "      <th>marital.status</th>\n",
       "      <th>occupation</th>\n",
       "      <th>relationship</th>\n",
       "      <th>race</th>\n",
       "      <th>sex</th>\n",
       "      <th>capital.gain</th>\n",
       "      <th>capital.loss</th>\n",
       "      <th>hours.per.week</th>\n",
       "      <th>native.country</th>\n",
       "      <th>income</th>\n",
       "    </tr>\n",
       "  </thead>\n",
       "  <tbody>\n",
       "    <tr>\n",
       "      <th>0</th>\n",
       "      <td>90</td>\n",
       "      <td>?</td>\n",
       "      <td>77053</td>\n",
       "      <td>HS-grad</td>\n",
       "      <td>9</td>\n",
       "      <td>Widowed</td>\n",
       "      <td>?</td>\n",
       "      <td>Not-in-family</td>\n",
       "      <td>White</td>\n",
       "      <td>Female</td>\n",
       "      <td>0</td>\n",
       "      <td>4356</td>\n",
       "      <td>40</td>\n",
       "      <td>United-States</td>\n",
       "      <td>&lt;=50K</td>\n",
       "    </tr>\n",
       "    <tr>\n",
       "      <th>1</th>\n",
       "      <td>82</td>\n",
       "      <td>Private</td>\n",
       "      <td>132870</td>\n",
       "      <td>HS-grad</td>\n",
       "      <td>9</td>\n",
       "      <td>Widowed</td>\n",
       "      <td>Exec-managerial</td>\n",
       "      <td>Not-in-family</td>\n",
       "      <td>White</td>\n",
       "      <td>Female</td>\n",
       "      <td>0</td>\n",
       "      <td>4356</td>\n",
       "      <td>18</td>\n",
       "      <td>United-States</td>\n",
       "      <td>&lt;=50K</td>\n",
       "    </tr>\n",
       "    <tr>\n",
       "      <th>2</th>\n",
       "      <td>66</td>\n",
       "      <td>?</td>\n",
       "      <td>186061</td>\n",
       "      <td>Some-college</td>\n",
       "      <td>10</td>\n",
       "      <td>Widowed</td>\n",
       "      <td>?</td>\n",
       "      <td>Unmarried</td>\n",
       "      <td>Black</td>\n",
       "      <td>Female</td>\n",
       "      <td>0</td>\n",
       "      <td>4356</td>\n",
       "      <td>40</td>\n",
       "      <td>United-States</td>\n",
       "      <td>&lt;=50K</td>\n",
       "    </tr>\n",
       "    <tr>\n",
       "      <th>3</th>\n",
       "      <td>54</td>\n",
       "      <td>Private</td>\n",
       "      <td>140359</td>\n",
       "      <td>7th-8th</td>\n",
       "      <td>4</td>\n",
       "      <td>Divorced</td>\n",
       "      <td>Machine-op-inspct</td>\n",
       "      <td>Unmarried</td>\n",
       "      <td>White</td>\n",
       "      <td>Female</td>\n",
       "      <td>0</td>\n",
       "      <td>3900</td>\n",
       "      <td>40</td>\n",
       "      <td>United-States</td>\n",
       "      <td>&lt;=50K</td>\n",
       "    </tr>\n",
       "    <tr>\n",
       "      <th>4</th>\n",
       "      <td>41</td>\n",
       "      <td>Private</td>\n",
       "      <td>264663</td>\n",
       "      <td>Some-college</td>\n",
       "      <td>10</td>\n",
       "      <td>Separated</td>\n",
       "      <td>Prof-specialty</td>\n",
       "      <td>Own-child</td>\n",
       "      <td>White</td>\n",
       "      <td>Female</td>\n",
       "      <td>0</td>\n",
       "      <td>3900</td>\n",
       "      <td>40</td>\n",
       "      <td>United-States</td>\n",
       "      <td>&lt;=50K</td>\n",
       "    </tr>\n",
       "  </tbody>\n",
       "</table>\n",
       "</div>"
      ],
      "text/plain": [
       "   age workclass  fnlwgt     education  education.num marital.status  \\\n",
       "0   90         ?   77053       HS-grad              9        Widowed   \n",
       "1   82   Private  132870       HS-grad              9        Widowed   \n",
       "2   66         ?  186061  Some-college             10        Widowed   \n",
       "3   54   Private  140359       7th-8th              4       Divorced   \n",
       "4   41   Private  264663  Some-college             10      Separated   \n",
       "\n",
       "          occupation   relationship   race     sex  capital.gain  \\\n",
       "0                  ?  Not-in-family  White  Female             0   \n",
       "1    Exec-managerial  Not-in-family  White  Female             0   \n",
       "2                  ?      Unmarried  Black  Female             0   \n",
       "3  Machine-op-inspct      Unmarried  White  Female             0   \n",
       "4     Prof-specialty      Own-child  White  Female             0   \n",
       "\n",
       "   capital.loss  hours.per.week native.country income  \n",
       "0          4356              40  United-States  <=50K  \n",
       "1          4356              18  United-States  <=50K  \n",
       "2          4356              40  United-States  <=50K  \n",
       "3          3900              40  United-States  <=50K  \n",
       "4          3900              40  United-States  <=50K  "
      ]
     },
     "execution_count": 3,
     "metadata": {},
     "output_type": "execute_result"
    }
   ],
   "source": [
    "data_df.head()"
   ]
  },
  {
   "cell_type": "code",
   "execution_count": 4,
   "metadata": {},
   "outputs": [
    {
     "data": {
      "text/plain": [
       "(32561, 15)"
      ]
     },
     "execution_count": 4,
     "metadata": {},
     "output_type": "execute_result"
    }
   ],
   "source": [
    "# Check shape\n",
    "data_df.shape"
   ]
  },
  {
   "cell_type": "code",
   "execution_count": 5,
   "metadata": {},
   "outputs": [
    {
     "data": {
      "text/plain": [
       "array(['<=50K', '>50K'], dtype=object)"
      ]
     },
     "execution_count": 5,
     "metadata": {},
     "output_type": "execute_result"
    }
   ],
   "source": [
    "data_df['income'].unique()"
   ]
  },
  {
   "cell_type": "code",
   "execution_count": 6,
   "metadata": {},
   "outputs": [
    {
     "name": "stdout",
     "output_type": "stream",
     "text": [
      "<class 'pandas.core.frame.DataFrame'>\n",
      "RangeIndex: 32561 entries, 0 to 32560\n",
      "Data columns (total 15 columns):\n",
      " #   Column          Non-Null Count  Dtype \n",
      "---  ------          --------------  ----- \n",
      " 0   age             32561 non-null  int64 \n",
      " 1   workclass       32561 non-null  object\n",
      " 2   fnlwgt          32561 non-null  int64 \n",
      " 3   education       32561 non-null  object\n",
      " 4   education.num   32561 non-null  int64 \n",
      " 5   marital.status  32561 non-null  object\n",
      " 6   occupation      32561 non-null  object\n",
      " 7   relationship    32561 non-null  object\n",
      " 8   race            32561 non-null  object\n",
      " 9   sex             32561 non-null  object\n",
      " 10  capital.gain    32561 non-null  int64 \n",
      " 11  capital.loss    32561 non-null  int64 \n",
      " 12  hours.per.week  32561 non-null  int64 \n",
      " 13  native.country  32561 non-null  object\n",
      " 14  income          32561 non-null  object\n",
      "dtypes: int64(6), object(9)\n",
      "memory usage: 3.7+ MB\n"
     ]
    }
   ],
   "source": [
    "# Check info\n",
    "data_df.info()"
   ]
  },
  {
   "cell_type": "code",
   "execution_count": 7,
   "metadata": {},
   "outputs": [
    {
     "data": {
      "text/html": [
       "<div>\n",
       "<style scoped>\n",
       "    .dataframe tbody tr th:only-of-type {\n",
       "        vertical-align: middle;\n",
       "    }\n",
       "\n",
       "    .dataframe tbody tr th {\n",
       "        vertical-align: top;\n",
       "    }\n",
       "\n",
       "    .dataframe thead th {\n",
       "        text-align: right;\n",
       "    }\n",
       "</style>\n",
       "<table border=\"1\" class=\"dataframe\">\n",
       "  <thead>\n",
       "    <tr style=\"text-align: right;\">\n",
       "      <th></th>\n",
       "      <th>count</th>\n",
       "      <th>mean</th>\n",
       "      <th>std</th>\n",
       "      <th>min</th>\n",
       "      <th>25%</th>\n",
       "      <th>50%</th>\n",
       "      <th>75%</th>\n",
       "      <th>max</th>\n",
       "    </tr>\n",
       "  </thead>\n",
       "  <tbody>\n",
       "    <tr>\n",
       "      <th>age</th>\n",
       "      <td>32561.0</td>\n",
       "      <td>38.581647</td>\n",
       "      <td>13.640433</td>\n",
       "      <td>17.0</td>\n",
       "      <td>28.0</td>\n",
       "      <td>37.0</td>\n",
       "      <td>48.0</td>\n",
       "      <td>90.0</td>\n",
       "    </tr>\n",
       "    <tr>\n",
       "      <th>fnlwgt</th>\n",
       "      <td>32561.0</td>\n",
       "      <td>189778.366512</td>\n",
       "      <td>105549.977697</td>\n",
       "      <td>12285.0</td>\n",
       "      <td>117827.0</td>\n",
       "      <td>178356.0</td>\n",
       "      <td>237051.0</td>\n",
       "      <td>1484705.0</td>\n",
       "    </tr>\n",
       "    <tr>\n",
       "      <th>education.num</th>\n",
       "      <td>32561.0</td>\n",
       "      <td>10.080679</td>\n",
       "      <td>2.572720</td>\n",
       "      <td>1.0</td>\n",
       "      <td>9.0</td>\n",
       "      <td>10.0</td>\n",
       "      <td>12.0</td>\n",
       "      <td>16.0</td>\n",
       "    </tr>\n",
       "    <tr>\n",
       "      <th>capital.gain</th>\n",
       "      <td>32561.0</td>\n",
       "      <td>1077.648844</td>\n",
       "      <td>7385.292085</td>\n",
       "      <td>0.0</td>\n",
       "      <td>0.0</td>\n",
       "      <td>0.0</td>\n",
       "      <td>0.0</td>\n",
       "      <td>99999.0</td>\n",
       "    </tr>\n",
       "    <tr>\n",
       "      <th>capital.loss</th>\n",
       "      <td>32561.0</td>\n",
       "      <td>87.303830</td>\n",
       "      <td>402.960219</td>\n",
       "      <td>0.0</td>\n",
       "      <td>0.0</td>\n",
       "      <td>0.0</td>\n",
       "      <td>0.0</td>\n",
       "      <td>4356.0</td>\n",
       "    </tr>\n",
       "    <tr>\n",
       "      <th>hours.per.week</th>\n",
       "      <td>32561.0</td>\n",
       "      <td>40.437456</td>\n",
       "      <td>12.347429</td>\n",
       "      <td>1.0</td>\n",
       "      <td>40.0</td>\n",
       "      <td>40.0</td>\n",
       "      <td>45.0</td>\n",
       "      <td>99.0</td>\n",
       "    </tr>\n",
       "  </tbody>\n",
       "</table>\n",
       "</div>"
      ],
      "text/plain": [
       "                  count           mean            std      min       25%  \\\n",
       "age             32561.0      38.581647      13.640433     17.0      28.0   \n",
       "fnlwgt          32561.0  189778.366512  105549.977697  12285.0  117827.0   \n",
       "education.num   32561.0      10.080679       2.572720      1.0       9.0   \n",
       "capital.gain    32561.0    1077.648844    7385.292085      0.0       0.0   \n",
       "capital.loss    32561.0      87.303830     402.960219      0.0       0.0   \n",
       "hours.per.week  32561.0      40.437456      12.347429      1.0      40.0   \n",
       "\n",
       "                     50%       75%        max  \n",
       "age                 37.0      48.0       90.0  \n",
       "fnlwgt          178356.0  237051.0  1484705.0  \n",
       "education.num       10.0      12.0       16.0  \n",
       "capital.gain         0.0       0.0    99999.0  \n",
       "capital.loss         0.0       0.0     4356.0  \n",
       "hours.per.week      40.0      45.0       99.0  "
      ]
     },
     "execution_count": 7,
     "metadata": {},
     "output_type": "execute_result"
    }
   ],
   "source": [
    "data_df.describe().T"
   ]
  },
  {
   "cell_type": "code",
   "execution_count": 8,
   "metadata": {},
   "outputs": [
    {
     "data": {
      "text/plain": [
       "age               0\n",
       "workclass         0\n",
       "fnlwgt            0\n",
       "education         0\n",
       "education.num     0\n",
       "marital.status    0\n",
       "occupation        0\n",
       "relationship      0\n",
       "race              0\n",
       "sex               0\n",
       "capital.gain      0\n",
       "capital.loss      0\n",
       "hours.per.week    0\n",
       "native.country    0\n",
       "income            0\n",
       "dtype: int64"
      ]
     },
     "execution_count": 8,
     "metadata": {},
     "output_type": "execute_result"
    }
   ],
   "source": [
    "# Check missing values\n",
    "data_df.isna().sum()"
   ]
  },
  {
   "cell_type": "code",
   "execution_count": 9,
   "metadata": {},
   "outputs": [],
   "source": [
    "# Replace all ? with nan, then check missing again.\n",
    "data_df.replace('?', np.nan, inplace=True)"
   ]
  },
  {
   "cell_type": "code",
   "execution_count": 10,
   "metadata": {},
   "outputs": [
    {
     "data": {
      "text/plain": [
       "age                  0\n",
       "workclass         1836\n",
       "fnlwgt               0\n",
       "education            0\n",
       "education.num        0\n",
       "marital.status       0\n",
       "occupation        1843\n",
       "relationship         0\n",
       "race                 0\n",
       "sex                  0\n",
       "capital.gain         0\n",
       "capital.loss         0\n",
       "hours.per.week       0\n",
       "native.country     583\n",
       "income               0\n",
       "dtype: int64"
      ]
     },
     "execution_count": 10,
     "metadata": {},
     "output_type": "execute_result"
    }
   ],
   "source": [
    "# Missing values show up, I decided to replace with mode.\n",
    "data_df.isna().sum()"
   ]
  },
  {
   "cell_type": "code",
   "execution_count": 11,
   "metadata": {},
   "outputs": [],
   "source": [
    "# Replace with mode \n",
    "missing_cat = ['workclass', 'occupation', 'native.country']\n",
    "\n",
    "data_df[missing_cat] = data_df[missing_cat].fillna(value= data_df[missing_cat].mode().iloc[0])"
   ]
  },
  {
   "cell_type": "code",
   "execution_count": 12,
   "metadata": {},
   "outputs": [],
   "source": [
    "# Encoding our label to binary class\n",
    "data_df['income'] = data_df['income'].map({'<=50K': 0, '>50K': 1})"
   ]
  },
  {
   "cell_type": "code",
   "execution_count": 13,
   "metadata": {},
   "outputs": [
    {
     "data": {
      "text/html": [
       "<div>\n",
       "<style scoped>\n",
       "    .dataframe tbody tr th:only-of-type {\n",
       "        vertical-align: middle;\n",
       "    }\n",
       "\n",
       "    .dataframe tbody tr th {\n",
       "        vertical-align: top;\n",
       "    }\n",
       "\n",
       "    .dataframe thead th {\n",
       "        text-align: right;\n",
       "    }\n",
       "</style>\n",
       "<table border=\"1\" class=\"dataframe\">\n",
       "  <thead>\n",
       "    <tr style=\"text-align: right;\">\n",
       "      <th></th>\n",
       "      <th>age</th>\n",
       "      <th>workclass</th>\n",
       "      <th>fnlwgt</th>\n",
       "      <th>education</th>\n",
       "      <th>education.num</th>\n",
       "      <th>marital.status</th>\n",
       "      <th>occupation</th>\n",
       "      <th>relationship</th>\n",
       "      <th>race</th>\n",
       "      <th>sex</th>\n",
       "      <th>capital.gain</th>\n",
       "      <th>capital.loss</th>\n",
       "      <th>hours.per.week</th>\n",
       "      <th>native.country</th>\n",
       "      <th>income</th>\n",
       "    </tr>\n",
       "  </thead>\n",
       "  <tbody>\n",
       "    <tr>\n",
       "      <th>0</th>\n",
       "      <td>90</td>\n",
       "      <td>Private</td>\n",
       "      <td>77053</td>\n",
       "      <td>HS-grad</td>\n",
       "      <td>9</td>\n",
       "      <td>Widowed</td>\n",
       "      <td>Prof-specialty</td>\n",
       "      <td>Not-in-family</td>\n",
       "      <td>White</td>\n",
       "      <td>Female</td>\n",
       "      <td>0</td>\n",
       "      <td>4356</td>\n",
       "      <td>40</td>\n",
       "      <td>United-States</td>\n",
       "      <td>0</td>\n",
       "    </tr>\n",
       "    <tr>\n",
       "      <th>1</th>\n",
       "      <td>82</td>\n",
       "      <td>Private</td>\n",
       "      <td>132870</td>\n",
       "      <td>HS-grad</td>\n",
       "      <td>9</td>\n",
       "      <td>Widowed</td>\n",
       "      <td>Exec-managerial</td>\n",
       "      <td>Not-in-family</td>\n",
       "      <td>White</td>\n",
       "      <td>Female</td>\n",
       "      <td>0</td>\n",
       "      <td>4356</td>\n",
       "      <td>18</td>\n",
       "      <td>United-States</td>\n",
       "      <td>0</td>\n",
       "    </tr>\n",
       "    <tr>\n",
       "      <th>2</th>\n",
       "      <td>66</td>\n",
       "      <td>Private</td>\n",
       "      <td>186061</td>\n",
       "      <td>Some-college</td>\n",
       "      <td>10</td>\n",
       "      <td>Widowed</td>\n",
       "      <td>Prof-specialty</td>\n",
       "      <td>Unmarried</td>\n",
       "      <td>Black</td>\n",
       "      <td>Female</td>\n",
       "      <td>0</td>\n",
       "      <td>4356</td>\n",
       "      <td>40</td>\n",
       "      <td>United-States</td>\n",
       "      <td>0</td>\n",
       "    </tr>\n",
       "    <tr>\n",
       "      <th>3</th>\n",
       "      <td>54</td>\n",
       "      <td>Private</td>\n",
       "      <td>140359</td>\n",
       "      <td>7th-8th</td>\n",
       "      <td>4</td>\n",
       "      <td>Divorced</td>\n",
       "      <td>Machine-op-inspct</td>\n",
       "      <td>Unmarried</td>\n",
       "      <td>White</td>\n",
       "      <td>Female</td>\n",
       "      <td>0</td>\n",
       "      <td>3900</td>\n",
       "      <td>40</td>\n",
       "      <td>United-States</td>\n",
       "      <td>0</td>\n",
       "    </tr>\n",
       "    <tr>\n",
       "      <th>4</th>\n",
       "      <td>41</td>\n",
       "      <td>Private</td>\n",
       "      <td>264663</td>\n",
       "      <td>Some-college</td>\n",
       "      <td>10</td>\n",
       "      <td>Separated</td>\n",
       "      <td>Prof-specialty</td>\n",
       "      <td>Own-child</td>\n",
       "      <td>White</td>\n",
       "      <td>Female</td>\n",
       "      <td>0</td>\n",
       "      <td>3900</td>\n",
       "      <td>40</td>\n",
       "      <td>United-States</td>\n",
       "      <td>0</td>\n",
       "    </tr>\n",
       "    <tr>\n",
       "      <th>...</th>\n",
       "      <td>...</td>\n",
       "      <td>...</td>\n",
       "      <td>...</td>\n",
       "      <td>...</td>\n",
       "      <td>...</td>\n",
       "      <td>...</td>\n",
       "      <td>...</td>\n",
       "      <td>...</td>\n",
       "      <td>...</td>\n",
       "      <td>...</td>\n",
       "      <td>...</td>\n",
       "      <td>...</td>\n",
       "      <td>...</td>\n",
       "      <td>...</td>\n",
       "      <td>...</td>\n",
       "    </tr>\n",
       "    <tr>\n",
       "      <th>32556</th>\n",
       "      <td>22</td>\n",
       "      <td>Private</td>\n",
       "      <td>310152</td>\n",
       "      <td>Some-college</td>\n",
       "      <td>10</td>\n",
       "      <td>Never-married</td>\n",
       "      <td>Protective-serv</td>\n",
       "      <td>Not-in-family</td>\n",
       "      <td>White</td>\n",
       "      <td>Male</td>\n",
       "      <td>0</td>\n",
       "      <td>0</td>\n",
       "      <td>40</td>\n",
       "      <td>United-States</td>\n",
       "      <td>0</td>\n",
       "    </tr>\n",
       "    <tr>\n",
       "      <th>32557</th>\n",
       "      <td>27</td>\n",
       "      <td>Private</td>\n",
       "      <td>257302</td>\n",
       "      <td>Assoc-acdm</td>\n",
       "      <td>12</td>\n",
       "      <td>Married-civ-spouse</td>\n",
       "      <td>Tech-support</td>\n",
       "      <td>Wife</td>\n",
       "      <td>White</td>\n",
       "      <td>Female</td>\n",
       "      <td>0</td>\n",
       "      <td>0</td>\n",
       "      <td>38</td>\n",
       "      <td>United-States</td>\n",
       "      <td>0</td>\n",
       "    </tr>\n",
       "    <tr>\n",
       "      <th>32558</th>\n",
       "      <td>40</td>\n",
       "      <td>Private</td>\n",
       "      <td>154374</td>\n",
       "      <td>HS-grad</td>\n",
       "      <td>9</td>\n",
       "      <td>Married-civ-spouse</td>\n",
       "      <td>Machine-op-inspct</td>\n",
       "      <td>Husband</td>\n",
       "      <td>White</td>\n",
       "      <td>Male</td>\n",
       "      <td>0</td>\n",
       "      <td>0</td>\n",
       "      <td>40</td>\n",
       "      <td>United-States</td>\n",
       "      <td>1</td>\n",
       "    </tr>\n",
       "    <tr>\n",
       "      <th>32559</th>\n",
       "      <td>58</td>\n",
       "      <td>Private</td>\n",
       "      <td>151910</td>\n",
       "      <td>HS-grad</td>\n",
       "      <td>9</td>\n",
       "      <td>Widowed</td>\n",
       "      <td>Adm-clerical</td>\n",
       "      <td>Unmarried</td>\n",
       "      <td>White</td>\n",
       "      <td>Female</td>\n",
       "      <td>0</td>\n",
       "      <td>0</td>\n",
       "      <td>40</td>\n",
       "      <td>United-States</td>\n",
       "      <td>0</td>\n",
       "    </tr>\n",
       "    <tr>\n",
       "      <th>32560</th>\n",
       "      <td>22</td>\n",
       "      <td>Private</td>\n",
       "      <td>201490</td>\n",
       "      <td>HS-grad</td>\n",
       "      <td>9</td>\n",
       "      <td>Never-married</td>\n",
       "      <td>Adm-clerical</td>\n",
       "      <td>Own-child</td>\n",
       "      <td>White</td>\n",
       "      <td>Male</td>\n",
       "      <td>0</td>\n",
       "      <td>0</td>\n",
       "      <td>20</td>\n",
       "      <td>United-States</td>\n",
       "      <td>0</td>\n",
       "    </tr>\n",
       "  </tbody>\n",
       "</table>\n",
       "<p>32561 rows × 15 columns</p>\n",
       "</div>"
      ],
      "text/plain": [
       "       age workclass  fnlwgt     education  education.num      marital.status  \\\n",
       "0       90   Private   77053       HS-grad              9             Widowed   \n",
       "1       82   Private  132870       HS-grad              9             Widowed   \n",
       "2       66   Private  186061  Some-college             10             Widowed   \n",
       "3       54   Private  140359       7th-8th              4            Divorced   \n",
       "4       41   Private  264663  Some-college             10           Separated   \n",
       "...    ...       ...     ...           ...            ...                 ...   \n",
       "32556   22   Private  310152  Some-college             10       Never-married   \n",
       "32557   27   Private  257302    Assoc-acdm             12  Married-civ-spouse   \n",
       "32558   40   Private  154374       HS-grad              9  Married-civ-spouse   \n",
       "32559   58   Private  151910       HS-grad              9             Widowed   \n",
       "32560   22   Private  201490       HS-grad              9       Never-married   \n",
       "\n",
       "              occupation   relationship   race     sex  capital.gain  \\\n",
       "0         Prof-specialty  Not-in-family  White  Female             0   \n",
       "1        Exec-managerial  Not-in-family  White  Female             0   \n",
       "2         Prof-specialty      Unmarried  Black  Female             0   \n",
       "3      Machine-op-inspct      Unmarried  White  Female             0   \n",
       "4         Prof-specialty      Own-child  White  Female             0   \n",
       "...                  ...            ...    ...     ...           ...   \n",
       "32556    Protective-serv  Not-in-family  White    Male             0   \n",
       "32557       Tech-support           Wife  White  Female             0   \n",
       "32558  Machine-op-inspct        Husband  White    Male             0   \n",
       "32559       Adm-clerical      Unmarried  White  Female             0   \n",
       "32560       Adm-clerical      Own-child  White    Male             0   \n",
       "\n",
       "       capital.loss  hours.per.week native.country  income  \n",
       "0              4356              40  United-States       0  \n",
       "1              4356              18  United-States       0  \n",
       "2              4356              40  United-States       0  \n",
       "3              3900              40  United-States       0  \n",
       "4              3900              40  United-States       0  \n",
       "...             ...             ...            ...     ...  \n",
       "32556             0              40  United-States       0  \n",
       "32557             0              38  United-States       0  \n",
       "32558             0              40  United-States       1  \n",
       "32559             0              40  United-States       0  \n",
       "32560             0              20  United-States       0  \n",
       "\n",
       "[32561 rows x 15 columns]"
      ]
     },
     "execution_count": 13,
     "metadata": {},
     "output_type": "execute_result"
    }
   ],
   "source": [
    "data_df"
   ]
  },
  {
   "cell_type": "code",
   "execution_count": 14,
   "metadata": {},
   "outputs": [
    {
     "data": {
      "text/plain": [
       "array([0, 1], dtype=int64)"
      ]
     },
     "execution_count": 14,
     "metadata": {},
     "output_type": "execute_result"
    }
   ],
   "source": [
    "data_df['income'].unique()"
   ]
  },
  {
   "cell_type": "code",
   "execution_count": 15,
   "metadata": {},
   "outputs": [
    {
     "data": {
      "image/png": "[encoded data removed]",
      "text/plain": [
       "<Figure size 648x360 with 1 Axes>"
      ]
     },
     "metadata": {
      "needs_background": "light"
     },
     "output_type": "display_data"
    }
   ],
   "source": [
    "# Plot label\n",
    "plt.figure(figsize=(9, 5))\n",
    "plt.title('Income Count Comparison')\n",
    "ax1 = sns.countplot(data=data_df, x='income', label='Count')\n",
    "for container in ax1.containers:\n",
    "    ax1.bar_label(container)\n",
    "\n",
    "plt.xlabel('Income Class')\n",
    "plt.ylabel('Count')\n",
    "plt.show()"
   ]
  },
  {
   "cell_type": "code",
   "execution_count": 16,
   "metadata": {},
   "outputs": [
    {
     "data": {
      "image/png": "[encoded data removed]",
      "text/plain": [
       "<Figure size 1080x432 with 1 Axes>"
      ]
     },
     "metadata": {
      "needs_background": "light"
     },
     "output_type": "display_data"
    }
   ],
   "source": [
    "education_order = [\n",
    "    'Doctorate', 'Masters', 'Bachelors', 'Some-college', 'Assoc-acdm', 'Assoc-voc',\n",
    "    'HS-grad', '12th', '11th', '10th', '9th', '7th-8th', '5th-6th', '1st-4th', 'Preschool']\n",
    "\n",
    "plt.figure(figsize=(15, 6))\n",
    "ax2 = sns.countplot(data=data_df, x='education', hue='income', order=education_order)\n",
    "for container in ax2.containers:\n",
    "    ax2.bar_label(container)\n",
    "\n",
    "plt.title('Distribution of Education Level by Income')\n",
    "plt.xlabel('Education Level')\n",
    "plt.ylabel('Count')\n",
    "plt.xticks(rotation=45)  # Rotate x-axis labels for better readability\n",
    "plt.legend(title=\"Class\", labels=[\"<=50K\", \">50K\"])\n",
    "plt.show()"
   ]
  },
  {
   "cell_type": "code",
   "execution_count": 17,
   "metadata": {},
   "outputs": [
    {
     "data": {
      "image/png": "[encoded data removed]",
      "text/plain": [
       "<Figure size 864x576 with 2 Axes>"
      ]
     },
     "metadata": {
      "needs_background": "light"
     },
     "output_type": "display_data"
    }
   ],
   "source": [
    "plt.figure(figsize=(12, 8))\n",
    "plt.title('Features Correlation Score')\n",
    "sns.heatmap(data= data_df.corr(), cmap='Blues', annot=True)\n",
    "plt.show()"
   ]
  },
  {
   "cell_type": "markdown",
   "metadata": {},
   "source": [
    "## Modeling Part"
   ]
  },
  {
   "cell_type": "code",
   "execution_count": 18,
   "metadata": {},
   "outputs": [],
   "source": [
    "from sklearn.ensemble import RandomForestClassifier, VotingClassifier\n",
    "from sklearn.neural_network import MLPClassifier\n",
    "from sklearn.svm import SVC\n",
    "from lightgbm import LGBMClassifier\n",
    "from sklearn.linear_model import LogisticRegression\n",
    "from sklearn.neighbors import KNeighborsClassifier\n",
    "#from xgboost import XGBClassifier\n",
    "from sklearn.metrics import classification_report, confusion_matrix\n",
    "from mlxtend.plotting import plot_confusion_matrix\n",
    "from sklearn.metrics import f1_score ,accuracy_score, recall_score, precision_score\n",
    "from sklearn.model_selection import train_test_split\n",
    "from sklearn.preprocessing import StandardScaler, OneHotEncoder, OrdinalEncoder\n",
    "from sklearn.compose import ColumnTransformer"
   ]
  },
  {
   "cell_type": "code",
   "execution_count": 19,
   "metadata": {},
   "outputs": [],
   "source": [
    "# Encode category data\n",
    "categorical_columns = ['workclass', 'education', 'marital.status', 'occupation', 'relationship', 'race', 'sex', 'native.country']\n",
    "categorical_data = data_df[categorical_columns]\n",
    "\n",
    "encoder = OrdinalEncoder()\n",
    "encoded_categorical_data = encoder.fit_transform(categorical_data)\n",
    "\n",
    "# Replace the original categorical columns with the encoded values\n",
    "data_df[categorical_columns] = encoded_categorical_data"
   ]
  },
  {
   "cell_type": "code",
   "execution_count": 20,
   "metadata": {},
   "outputs": [
    {
     "data": {
      "text/html": [
       "<div>\n",
       "<style scoped>\n",
       "    .dataframe tbody tr th:only-of-type {\n",
       "        vertical-align: middle;\n",
       "    }\n",
       "\n",
       "    .dataframe tbody tr th {\n",
       "        vertical-align: top;\n",
       "    }\n",
       "\n",
       "    .dataframe thead th {\n",
       "        text-align: right;\n",
       "    }\n",
       "</style>\n",
       "<table border=\"1\" class=\"dataframe\">\n",
       "  <thead>\n",
       "    <tr style=\"text-align: right;\">\n",
       "      <th></th>\n",
       "      <th>age</th>\n",
       "      <th>workclass</th>\n",
       "      <th>fnlwgt</th>\n",
       "      <th>education</th>\n",
       "      <th>education.num</th>\n",
       "      <th>marital.status</th>\n",
       "      <th>occupation</th>\n",
       "      <th>relationship</th>\n",
       "      <th>race</th>\n",
       "      <th>sex</th>\n",
       "      <th>capital.gain</th>\n",
       "      <th>capital.loss</th>\n",
       "      <th>hours.per.week</th>\n",
       "      <th>native.country</th>\n",
       "      <th>income</th>\n",
       "    </tr>\n",
       "  </thead>\n",
       "  <tbody>\n",
       "    <tr>\n",
       "      <th>0</th>\n",
       "      <td>90</td>\n",
       "      <td>3.0</td>\n",
       "      <td>77053</td>\n",
       "      <td>11.0</td>\n",
       "      <td>9</td>\n",
       "      <td>6.0</td>\n",
       "      <td>9.0</td>\n",
       "      <td>1.0</td>\n",
       "      <td>4.0</td>\n",
       "      <td>0.0</td>\n",
       "      <td>0</td>\n",
       "      <td>4356</td>\n",
       "      <td>40</td>\n",
       "      <td>38.0</td>\n",
       "      <td>0</td>\n",
       "    </tr>\n",
       "    <tr>\n",
       "      <th>1</th>\n",
       "      <td>82</td>\n",
       "      <td>3.0</td>\n",
       "      <td>132870</td>\n",
       "      <td>11.0</td>\n",
       "      <td>9</td>\n",
       "      <td>6.0</td>\n",
       "      <td>3.0</td>\n",
       "      <td>1.0</td>\n",
       "      <td>4.0</td>\n",
       "      <td>0.0</td>\n",
       "      <td>0</td>\n",
       "      <td>4356</td>\n",
       "      <td>18</td>\n",
       "      <td>38.0</td>\n",
       "      <td>0</td>\n",
       "    </tr>\n",
       "    <tr>\n",
       "      <th>2</th>\n",
       "      <td>66</td>\n",
       "      <td>3.0</td>\n",
       "      <td>186061</td>\n",
       "      <td>15.0</td>\n",
       "      <td>10</td>\n",
       "      <td>6.0</td>\n",
       "      <td>9.0</td>\n",
       "      <td>4.0</td>\n",
       "      <td>2.0</td>\n",
       "      <td>0.0</td>\n",
       "      <td>0</td>\n",
       "      <td>4356</td>\n",
       "      <td>40</td>\n",
       "      <td>38.0</td>\n",
       "      <td>0</td>\n",
       "    </tr>\n",
       "    <tr>\n",
       "      <th>3</th>\n",
       "      <td>54</td>\n",
       "      <td>3.0</td>\n",
       "      <td>140359</td>\n",
       "      <td>5.0</td>\n",
       "      <td>4</td>\n",
       "      <td>0.0</td>\n",
       "      <td>6.0</td>\n",
       "      <td>4.0</td>\n",
       "      <td>4.0</td>\n",
       "      <td>0.0</td>\n",
       "      <td>0</td>\n",
       "      <td>3900</td>\n",
       "      <td>40</td>\n",
       "      <td>38.0</td>\n",
       "      <td>0</td>\n",
       "    </tr>\n",
       "    <tr>\n",
       "      <th>4</th>\n",
       "      <td>41</td>\n",
       "      <td>3.0</td>\n",
       "      <td>264663</td>\n",
       "      <td>15.0</td>\n",
       "      <td>10</td>\n",
       "      <td>5.0</td>\n",
       "      <td>9.0</td>\n",
       "      <td>3.0</td>\n",
       "      <td>4.0</td>\n",
       "      <td>0.0</td>\n",
       "      <td>0</td>\n",
       "      <td>3900</td>\n",
       "      <td>40</td>\n",
       "      <td>38.0</td>\n",
       "      <td>0</td>\n",
       "    </tr>\n",
       "    <tr>\n",
       "      <th>...</th>\n",
       "      <td>...</td>\n",
       "      <td>...</td>\n",
       "      <td>...</td>\n",
       "      <td>...</td>\n",
       "      <td>...</td>\n",
       "      <td>...</td>\n",
       "      <td>...</td>\n",
       "      <td>...</td>\n",
       "      <td>...</td>\n",
       "      <td>...</td>\n",
       "      <td>...</td>\n",
       "      <td>...</td>\n",
       "      <td>...</td>\n",
       "      <td>...</td>\n",
       "      <td>...</td>\n",
       "    </tr>\n",
       "    <tr>\n",
       "      <th>32556</th>\n",
       "      <td>22</td>\n",
       "      <td>3.0</td>\n",
       "      <td>310152</td>\n",
       "      <td>15.0</td>\n",
       "      <td>10</td>\n",
       "      <td>4.0</td>\n",
       "      <td>10.0</td>\n",
       "      <td>1.0</td>\n",
       "      <td>4.0</td>\n",
       "      <td>1.0</td>\n",
       "      <td>0</td>\n",
       "      <td>0</td>\n",
       "      <td>40</td>\n",
       "      <td>38.0</td>\n",
       "      <td>0</td>\n",
       "    </tr>\n",
       "    <tr>\n",
       "      <th>32557</th>\n",
       "      <td>27</td>\n",
       "      <td>3.0</td>\n",
       "      <td>257302</td>\n",
       "      <td>7.0</td>\n",
       "      <td>12</td>\n",
       "      <td>2.0</td>\n",
       "      <td>12.0</td>\n",
       "      <td>5.0</td>\n",
       "      <td>4.0</td>\n",
       "      <td>0.0</td>\n",
       "      <td>0</td>\n",
       "      <td>0</td>\n",
       "      <td>38</td>\n",
       "      <td>38.0</td>\n",
       "      <td>0</td>\n",
       "    </tr>\n",
       "    <tr>\n",
       "      <th>32558</th>\n",
       "      <td>40</td>\n",
       "      <td>3.0</td>\n",
       "      <td>154374</td>\n",
       "      <td>11.0</td>\n",
       "      <td>9</td>\n",
       "      <td>2.0</td>\n",
       "      <td>6.0</td>\n",
       "      <td>0.0</td>\n",
       "      <td>4.0</td>\n",
       "      <td>1.0</td>\n",
       "      <td>0</td>\n",
       "      <td>0</td>\n",
       "      <td>40</td>\n",
       "      <td>38.0</td>\n",
       "      <td>1</td>\n",
       "    </tr>\n",
       "    <tr>\n",
       "      <th>32559</th>\n",
       "      <td>58</td>\n",
       "      <td>3.0</td>\n",
       "      <td>151910</td>\n",
       "      <td>11.0</td>\n",
       "      <td>9</td>\n",
       "      <td>6.0</td>\n",
       "      <td>0.0</td>\n",
       "      <td>4.0</td>\n",
       "      <td>4.0</td>\n",
       "      <td>0.0</td>\n",
       "      <td>0</td>\n",
       "      <td>0</td>\n",
       "      <td>40</td>\n",
       "      <td>38.0</td>\n",
       "      <td>0</td>\n",
       "    </tr>\n",
       "    <tr>\n",
       "      <th>32560</th>\n",
       "      <td>22</td>\n",
       "      <td>3.0</td>\n",
       "      <td>201490</td>\n",
       "      <td>11.0</td>\n",
       "      <td>9</td>\n",
       "      <td>4.0</td>\n",
       "      <td>0.0</td>\n",
       "      <td>3.0</td>\n",
       "      <td>4.0</td>\n",
       "      <td>1.0</td>\n",
       "      <td>0</td>\n",
       "      <td>0</td>\n",
       "      <td>20</td>\n",
       "      <td>38.0</td>\n",
       "      <td>0</td>\n",
       "    </tr>\n",
       "  </tbody>\n",
       "</table>\n",
       "<p>32561 rows × 15 columns</p>\n",
       "</div>"
      ],
      "text/plain": [
       "       age  workclass  fnlwgt  education  education.num  marital.status  \\\n",
       "0       90        3.0   77053       11.0              9             6.0   \n",
       "1       82        3.0  132870       11.0              9             6.0   \n",
       "2       66        3.0  186061       15.0             10             6.0   \n",
       "3       54        3.0  140359        5.0              4             0.0   \n",
       "4       41        3.0  264663       15.0             10             5.0   \n",
       "...    ...        ...     ...        ...            ...             ...   \n",
       "32556   22        3.0  310152       15.0             10             4.0   \n",
       "32557   27        3.0  257302        7.0             12             2.0   \n",
       "32558   40        3.0  154374       11.0              9             2.0   \n",
       "32559   58        3.0  151910       11.0              9             6.0   \n",
       "32560   22        3.0  201490       11.0              9             4.0   \n",
       "\n",
       "       occupation  relationship  race  sex  capital.gain  capital.loss  \\\n",
       "0             9.0           1.0   4.0  0.0             0          4356   \n",
       "1             3.0           1.0   4.0  0.0             0          4356   \n",
       "2             9.0           4.0   2.0  0.0             0          4356   \n",
       "3             6.0           4.0   4.0  0.0             0          3900   \n",
       "4             9.0           3.0   4.0  0.0             0          3900   \n",
       "...           ...           ...   ...  ...           ...           ...   \n",
       "32556        10.0           1.0   4.0  1.0             0             0   \n",
       "32557        12.0           5.0   4.0  0.0             0             0   \n",
       "32558         6.0           0.0   4.0  1.0             0             0   \n",
       "32559         0.0           4.0   4.0  0.0             0             0   \n",
       "32560         0.0           3.0   4.0  1.0             0             0   \n",
       "\n",
       "       hours.per.week  native.country  income  \n",
       "0                  40            38.0       0  \n",
       "1                  18            38.0       0  \n",
       "2                  40            38.0       0  \n",
       "3                  40            38.0       0  \n",
       "4                  40            38.0       0  \n",
       "...               ...             ...     ...  \n",
       "32556              40            38.0       0  \n",
       "32557              38            38.0       0  \n",
       "32558              40            38.0       1  \n",
       "32559              40            38.0       0  \n",
       "32560              20            38.0       0  \n",
       "\n",
       "[32561 rows x 15 columns]"
      ]
     },
     "execution_count": 20,
     "metadata": {},
     "output_type": "execute_result"
    }
   ],
   "source": [
    "data_df"
   ]
  },
  {
   "cell_type": "code",
   "execution_count": 21,
   "metadata": {},
   "outputs": [],
   "source": [
    "# Export clean data\n",
    "data_df.to_csv('CleanAdult.csv', index=False, encoding='utf-8')"
   ]
  },
  {
   "cell_type": "code",
   "execution_count": 22,
   "metadata": {},
   "outputs": [],
   "source": [
    "X = data_df.drop(columns= ['income', 'fnlwgt', 'education'])\n",
    "Y = data_df['income']\n",
    "\n",
    "# Split train test\n",
    "x_train, x_test, y_train, y_test = train_test_split(X, Y, test_size=0.3, random_state=13)\n",
    "\n",
    "# Sclaer data\n",
    "scaler = StandardScaler()\n",
    "\n",
    "# Fit and transform the training and testing data using the scaler\n",
    "x_train_scaled = scaler.fit_transform(x_train)\n",
    "x_test_scaled = scaler.transform(x_test)\n",
    "\n",
    "x_train_scaled = pd.DataFrame(x_train_scaled, columns= x_train.columns)\n",
    "x_test_scaled = pd.DataFrame(x_test_scaled, columns= x_test.columns)"
   ]
  },
  {
   "cell_type": "code",
   "execution_count": 23,
   "metadata": {},
   "outputs": [],
   "source": [
    "class_names = ['<=50k', '>50k']"
   ]
  },
  {
   "cell_type": "code",
   "execution_count": 24,
   "metadata": {},
   "outputs": [],
   "source": [
    "# Define list for check usage\n",
    "training_time = []\n",
    "memory_train = []\n",
    "testing_time = []\n",
    "memory_test = []"
   ]
  },
  {
   "cell_type": "markdown",
   "metadata": {},
   "source": [
    "### Random Forest"
   ]
  },
  {
   "cell_type": "code",
   "execution_count": 25,
   "metadata": {},
   "outputs": [],
   "source": [
    "# Set time\n",
    "st_train = time.time()\n",
    "st_memTrain = psutil.Process(os.getpid()).memory_info().rss / (1024 * 1024)\n",
    "\n",
    "# Training model\n",
    "rf_base = RandomForestClassifier(n_estimators=300)\n",
    "rf_model = rf_base.fit(x_train_scaled, y_train)\n",
    "\n",
    "et_train = time.time()\n",
    "et_memTrain = psutil.Process(os.getpid()).memory_info().rss / (1024 * 1024)\n",
    "# Calculate\n",
    "runtime_train = (et_train - st_train)\n",
    "mem_train = (et_memTrain - st_memTrain)\n",
    "\n"
   ]
  },
  {
   "cell_type": "code",
   "execution_count": 26,
   "metadata": {},
   "outputs": [
    {
     "data": {
      "text/plain": [
       "(170.734375, 368.2421875, 197.5078125)"
      ]
     },
     "execution_count": 26,
     "metadata": {},
     "output_type": "execute_result"
    }
   ],
   "source": [
    "mem_train, et_memTrain, st_memTrain"
   ]
  },
  {
   "cell_type": "code",
   "execution_count": 27,
   "metadata": {},
   "outputs": [],
   "source": [
    "# Append to list\n",
    "training_time.append(runtime_train)\n",
    "memory_train.append(mem_train)"
   ]
  },
  {
   "cell_type": "code",
   "execution_count": 28,
   "metadata": {},
   "outputs": [],
   "source": [
    "# Set time\n",
    "st_test = time.time()\n",
    "st_memTest = psutil.Process(os.getpid()).memory_info().rss / (1024 * 1024)\n",
    "\n",
    "# Predict model\n",
    "y_pred1 = rf_model.predict(x_test_scaled)\n",
    "\n",
    "et_test = time.time()\n",
    "et_memTest = psutil.Process(os.getpid()).memory_info().rss / (1024 * 1024)\n",
    "# Calculate\n",
    "runtime_test = (et_test - st_test)\n",
    "mem_test = (et_memTest - st_memTest)\n",
    "\n",
    "# Append to list\n",
    "testing_time.append(runtime_test)\n",
    "memory_test.append(mem_train)"
   ]
  },
  {
   "cell_type": "code",
   "execution_count": 29,
   "metadata": {},
   "outputs": [
    {
     "data": {
      "image/png": "[encoded data removed]",
      "text/plain": [
       "<Figure size 864x432 with 1 Axes>"
      ]
     },
     "metadata": {
      "needs_background": "light"
     },
     "output_type": "display_data"
    }
   ],
   "source": [
    "sorted_index = rf_model.feature_importances_.argsort()\n",
    "\n",
    "plt.figure(figsize=(12, 6))\n",
    "plt.barh(X.columns[sorted_index], rf_model.feature_importances_[sorted_index])\n",
    "plt.title(\"Feature Importance with Random Forest\")\n",
    "plt.show()"
   ]
  },
  {
   "cell_type": "code",
   "execution_count": 30,
   "metadata": {},
   "outputs": [],
   "source": [
    "acc = accuracy_score(y_test, y_pred1)\n",
    "recall = recall_score(y_test, y_pred1, average='weighted')\n",
    "precision = precision_score(y_test, y_pred1, average='weighted')\n",
    "f1 = f1_score(y_test, y_pred1, average='weighted')"
   ]
  },
  {
   "cell_type": "code",
   "execution_count": 31,
   "metadata": {},
   "outputs": [
    {
     "name": "stdout",
     "output_type": "stream",
     "text": [
      "RF Model Baseline Accuracy: 85.2493\n",
      "RF Model Baseline Recall: 85.2493\n",
      "RF Model Baseline Precision: 84.7267\n",
      "RF Model Baseline F1-Score: 84.8882\n"
     ]
    }
   ],
   "source": [
    "print(f'RF Model Baseline Accuracy: {acc*100:.4f}')\n",
    "print(f'RF Model Baseline Recall: {recall*100:.4f}')\n",
    "print(f'RF Model Baseline Precision: {precision*100:.4f}')\n",
    "print(f'RF Model Baseline F1-Score: {f1*100:.4f}')"
   ]
  },
  {
   "cell_type": "code",
   "execution_count": 32,
   "metadata": {},
   "outputs": [
    {
     "data": {
      "image/png": "[encoded data removed]",
      "text/plain": [
       "<Figure size 576x576 with 2 Axes>"
      ]
     },
     "metadata": {
      "needs_background": "light"
     },
     "output_type": "display_data"
    }
   ],
   "source": [
    "# Plot cm matrix\n",
    "mat = confusion_matrix(y_test, y_pred1)\n",
    "fig3 , ax3 = plot_confusion_matrix(conf_mat= mat, figsize=(8, 8),\n",
    "                      cmap= plt.cm.Blues,\n",
    "                      class_names= class_names,\n",
    "                      colorbar= True)\n",
    "disp = plt.title('Confusion Matrix of Random Forest Prediction')\n",
    "plt.show()"
   ]
  },
  {
   "cell_type": "code",
   "execution_count": 33,
   "metadata": {},
   "outputs": [
    {
     "name": "stdout",
     "output_type": "stream",
     "text": [
      "TP: 1438, FP: 573, TN: 6890, FN: 868\n"
     ]
    }
   ],
   "source": [
    "TN = mat[0][0]\n",
    "FN = mat[1][0]\n",
    "TP = mat[1][1]\n",
    "FP = mat[0][1]\n",
    "print(f'TP: {TP}, FP: {FP}, TN: {TN}, FN: {FN}')"
   ]
  },
  {
   "cell_type": "markdown",
   "metadata": {},
   "source": [
    "## LightGBM Model"
   ]
  },
  {
   "cell_type": "code",
   "execution_count": 34,
   "metadata": {},
   "outputs": [],
   "source": [
    "# Set time\n",
    "st_train = time.time()\n",
    "st_memTrain = psutil.Process(os.getpid()).memory_info().rss / (1024 * 1024)\n",
    "\n",
    "# Training model\n",
    "lightGBM_base = LGBMClassifier(n_estimators=300, verbose=-1)\n",
    "lgbm_model = lightGBM_base.fit(x_train_scaled, y_train)\n",
    "\n",
    "et_train = time.time()\n",
    "et_memTrain = psutil.Process(os.getpid()).memory_info().rss / (1024 * 1024)\n",
    "# Calculate\n",
    "runtime_train = et_train - st_train\n",
    "mem_train = et_memTrain - st_memTrain\n",
    "\n",
    "# Append to list\n",
    "training_time.append(runtime_train)\n",
    "memory_train.append(mem_train)"
   ]
  },
  {
   "cell_type": "code",
   "execution_count": 35,
   "metadata": {},
   "outputs": [],
   "source": [
    "# Set time\n",
    "st_test = time.time()\n",
    "st_memTest = psutil.Process().memory_info().rss / (1024 * 1024)\n",
    "\n",
    "# Predict model\n",
    "y_pred2 = lgbm_model.predict(x_test_scaled)\n",
    "\n",
    "et_test = time.time()\n",
    "et_memTest = psutil.Process().memory_info().rss / (1024 * 1024)\n",
    "# Calculate\n",
    "runtime_test = et_test - st_test\n",
    "mem_test = et_memTest - st_memTest\n",
    "\n",
    "# Append to list\n",
    "testing_time.append(runtime_test)\n",
    "memory_test.append(mem_test)"
   ]
  },
  {
   "cell_type": "code",
   "execution_count": 36,
   "metadata": {},
   "outputs": [
    {
     "data": {
      "image/png": "[encoded data removed]",
      "text/plain": [
       "<Figure size 864x432 with 1 Axes>"
      ]
     },
     "metadata": {
      "needs_background": "light"
     },
     "output_type": "display_data"
    }
   ],
   "source": [
    "sorted_index = lgbm_model.feature_importances_.argsort()\n",
    "\n",
    "plt.figure(figsize=(12, 6))\n",
    "plt.barh(X.columns[sorted_index], lgbm_model.feature_importances_[sorted_index])\n",
    "plt.title(\"Feature Importance with LightGBM\")\n",
    "plt.show()"
   ]
  },
  {
   "cell_type": "code",
   "execution_count": 37,
   "metadata": {},
   "outputs": [],
   "source": [
    "acc = accuracy_score(y_test, y_pred2)\n",
    "recall = recall_score(y_test, y_pred2, average='weighted')\n",
    "precision = precision_score(y_test, y_pred2, average='weighted')\n",
    "f1 = f1_score(y_test, y_pred2, average='weighted')"
   ]
  },
  {
   "cell_type": "code",
   "execution_count": 38,
   "metadata": {},
   "outputs": [
    {
     "name": "stdout",
     "output_type": "stream",
     "text": [
      "LGBT Model Baseline Accuracy: 87.4910\n",
      "LGBT Model Baseline Recall: 87.4910\n",
      "LGBT Model Baseline Precision: 87.0745\n",
      "LGBT Model Baseline F1-Score: 87.1607\n"
     ]
    }
   ],
   "source": [
    "print(f'LGBT Model Baseline Accuracy: {acc*100:.4f}')\n",
    "print(f'LGBT Model Baseline Recall: {recall*100:.4f}')\n",
    "print(f'LGBT Model Baseline Precision: {precision*100:.4f}')\n",
    "print(f'LGBT Model Baseline F1-Score: {f1*100:.4f}')"
   ]
  },
  {
   "cell_type": "code",
   "execution_count": 39,
   "metadata": {},
   "outputs": [
    {
     "data": {
      "image/png": "[encoded data removed]",
      "text/plain": [
       "<Figure size 576x576 with 2 Axes>"
      ]
     },
     "metadata": {
      "needs_background": "light"
     },
     "output_type": "display_data"
    }
   ],
   "source": [
    "# Plot cm matrix\n",
    "mat = confusion_matrix(y_test, y_pred2)\n",
    "fig3 , ax3 = plot_confusion_matrix(conf_mat= mat, figsize=(8, 8),\n",
    "                      cmap= plt.cm.Blues,\n",
    "                      class_names= class_names,\n",
    "                      colorbar= True)\n",
    "disp = plt.title('Confusion Matrix of LightGBM Prediction')\n",
    "plt.show()"
   ]
  },
  {
   "cell_type": "code",
   "execution_count": 40,
   "metadata": {},
   "outputs": [
    {
     "name": "stdout",
     "output_type": "stream",
     "text": [
      "TP: 1537, FP: 453, TN: 7010, FN: 769\n"
     ]
    }
   ],
   "source": [
    "TN = mat[0][0]\n",
    "FN = mat[1][0]\n",
    "TP = mat[1][1]\n",
    "FP = mat[0][1]\n",
    "print(f'TP: {TP}, FP: {FP}, TN: {TN}, FN: {FN}')"
   ]
  },
  {
   "cell_type": "markdown",
   "metadata": {},
   "source": [
    "### SVM Model"
   ]
  },
  {
   "cell_type": "code",
   "execution_count": 41,
   "metadata": {},
   "outputs": [],
   "source": [
    "# Set time\n",
    "st_train = time.time()\n",
    "st_memTrain = psutil.Process(os.getpid()).memory_info().rss / (1024 * 1024)\n",
    "\n",
    "# Training model\n",
    "svm_base = SVC()\n",
    "svm_model = svm_base.fit(x_train_scaled, y_train)\n",
    "\n",
    "et_train = time.time()\n",
    "et_memTrain = psutil.Process(os.getpid()).memory_info().rss / (1024 * 1024)\n",
    "# Calculate\n",
    "runtime_train = et_train - st_train\n",
    "mem_train = et_memTrain - st_memTrain\n",
    "\n"
   ]
  },
  {
   "cell_type": "code",
   "execution_count": 42,
   "metadata": {},
   "outputs": [],
   "source": [
    "# Append to list\n",
    "training_time.append(runtime_train)\n",
    "memory_train.append(mem_train)"
   ]
  },
  {
   "cell_type": "code",
   "execution_count": 43,
   "metadata": {},
   "outputs": [],
   "source": [
    "# Set time\n",
    "st_test = time.time()\n",
    "st_memTest = psutil.Process(os.getpid()).memory_info().rss / (1024 * 1024)\n",
    "\n",
    "# Predict model\n",
    "y_pred3 = svm_model.predict(x_test_scaled)\n",
    "\n",
    "et_test = time.time()\n",
    "et_memTest = psutil.Process(os.getpid()).memory_info().rss / (1024 * 1024)\n",
    "# Calculate\n",
    "runtime_test = et_test - st_test\n",
    "mem_test = et_memTest - st_memTest\n",
    "\n",
    "# Append to list\n",
    "testing_time.append(runtime_test)\n",
    "memory_test.append(mem_test)"
   ]
  },
  {
   "cell_type": "code",
   "execution_count": 44,
   "metadata": {},
   "outputs": [],
   "source": [
    "acc = accuracy_score(y_test, y_pred3)\n",
    "recall = recall_score(y_test, y_pred3, average='weighted')\n",
    "precision = precision_score(y_test, y_pred3, average='weighted')\n",
    "f1 = f1_score(y_test, y_pred3, average='weighted')"
   ]
  },
  {
   "cell_type": "code",
   "execution_count": 45,
   "metadata": {},
   "outputs": [
    {
     "name": "stdout",
     "output_type": "stream",
     "text": [
      "SVM Model Baseline Accuracy: 84.6760\n",
      "SVM Model Baseline Recall: 84.6760\n",
      "SVM Model Baseline Precision: 83.8554\n",
      "SVM Model Baseline F1-Score: 83.7191\n"
     ]
    }
   ],
   "source": [
    "print(f'SVM Model Baseline Accuracy: {acc*100:.4f}')\n",
    "print(f'SVM Model Baseline Recall: {recall*100:.4f}')\n",
    "print(f'SVM Model Baseline Precision: {precision*100:.4f}')\n",
    "print(f'SVM Model Baseline F1-Score: {f1*100:.4f}')"
   ]
  },
  {
   "cell_type": "code",
   "execution_count": 46,
   "metadata": {},
   "outputs": [
    {
     "data": {
      "image/png": "[encoded data removed]",
      "text/plain": [
       "<Figure size 576x576 with 2 Axes>"
      ]
     },
     "metadata": {
      "needs_background": "light"
     },
     "output_type": "display_data"
    }
   ],
   "source": [
    "# Plot cm matrix\n",
    "mat = confusion_matrix(y_test, y_pred3)\n",
    "fig4 , ax4 = plot_confusion_matrix(conf_mat= mat, figsize=(8, 8),\n",
    "                      cmap= plt.cm.Blues,\n",
    "                      class_names= class_names,\n",
    "                      colorbar= True)\n",
    "disp = plt.title('Confusion Matrix of SVM Prediction')\n",
    "plt.show()"
   ]
  },
  {
   "cell_type": "code",
   "execution_count": 47,
   "metadata": {},
   "outputs": [
    {
     "name": "stdout",
     "output_type": "stream",
     "text": [
      "TP: 1227, FP: 418, TN: 7045, FN: 1079\n"
     ]
    }
   ],
   "source": [
    "TN = mat[0][0]\n",
    "FN = mat[1][0]\n",
    "TP = mat[1][1]\n",
    "FP = mat[0][1]\n",
    "print(f'TP: {TP}, FP: {FP}, TN: {TN}, FN: {FN}')"
   ]
  },
  {
   "cell_type": "markdown",
   "metadata": {},
   "source": [
    "### MLP Model"
   ]
  },
  {
   "cell_type": "code",
   "execution_count": 48,
   "metadata": {},
   "outputs": [],
   "source": [
    "# Set time\n",
    "st_train = time.time()\n",
    "st_memTrain = psutil.Process(os.getpid()).memory_info().rss / (1024 * 1024)\n",
    "\n",
    "# Build MLP model\n",
    "mlp_base = MLPClassifier(hidden_layer_sizes=(32, 32), max_iter=400)\n",
    "mlp_model = mlp_base.fit(x_train_scaled, y_train)\n",
    "\n",
    "et_train = time.time()\n",
    "et_memTrain = psutil.Process(os.getpid()).memory_info().rss / (1024 * 1024)\n",
    "# Calculate\n",
    "runtime_train = et_train - st_train\n",
    "mem_train = et_memTrain - st_memTrain\n",
    "\n"
   ]
  },
  {
   "cell_type": "code",
   "execution_count": 49,
   "metadata": {},
   "outputs": [
    {
     "data": {
      "text/plain": [
       "1.33984375"
      ]
     },
     "execution_count": 49,
     "metadata": {},
     "output_type": "execute_result"
    }
   ],
   "source": [
    "mem_train"
   ]
  },
  {
   "cell_type": "code",
   "execution_count": 50,
   "metadata": {},
   "outputs": [],
   "source": [
    "# Append to list\n",
    "training_time.append(runtime_train)\n",
    "memory_train.append(mem_train)"
   ]
  },
  {
   "cell_type": "code",
   "execution_count": 51,
   "metadata": {},
   "outputs": [],
   "source": [
    "# Set time\n",
    "st_test = time.time()\n",
    "st_memTest = psutil.Process().memory_info().rss / (1024 * 1024)\n",
    "\n",
    "# Predict model\n",
    "y_pred4 = mlp_model.predict(x_test_scaled)\n",
    "\n",
    "et_test = time.time()\n",
    "et_memTest = psutil.Process().memory_info().rss / (1024 * 1024)\n",
    "# Calculate\n",
    "runtime_test = et_test - st_test\n",
    "mem_test = et_memTest - st_memTest\n",
    "\n",
    "# Append to list\n",
    "testing_time.append(runtime_test)\n",
    "memory_test.append(mem_test)"
   ]
  },
  {
   "cell_type": "code",
   "execution_count": 52,
   "metadata": {},
   "outputs": [],
   "source": [
    "acc = accuracy_score(y_test, y_pred4)\n",
    "recall = recall_score(y_test, y_pred4, average='weighted')\n",
    "precision = precision_score(y_test, y_pred4, average='weighted')\n",
    "f1 = f1_score(y_test, y_pred4, average='weighted')"
   ]
  },
  {
   "cell_type": "code",
   "execution_count": 53,
   "metadata": {},
   "outputs": [
    {
     "name": "stdout",
     "output_type": "stream",
     "text": [
      "MLP Model Baseline Accuracy: 84.4406\n",
      "MLP Model Baseline Recall: 84.4406\n",
      "MLP Model Baseline Precision: 83.6049\n",
      "MLP Model Baseline F1-Score: 83.6365\n"
     ]
    }
   ],
   "source": [
    "print(f'MLP Model Baseline Accuracy: {acc*100:.4f}')\n",
    "print(f'MLP Model Baseline Recall: {recall*100:.4f}')\n",
    "print(f'MLP Model Baseline Precision: {precision*100:.4f}')\n",
    "print(f'MLP Model Baseline F1-Score: {f1*100:.4f}')"
   ]
  },
  {
   "cell_type": "code",
   "execution_count": 54,
   "metadata": {},
   "outputs": [
    {
     "data": {
      "image/png": "[encoded data removed]",
      "text/plain": [
       "<Figure size 576x576 with 2 Axes>"
      ]
     },
     "metadata": {
      "needs_background": "light"
     },
     "output_type": "display_data"
    }
   ],
   "source": [
    "# Plot cm matrix\n",
    "mat = confusion_matrix(y_test, y_pred4)\n",
    "fig5 , ax5 = plot_confusion_matrix(conf_mat= mat, figsize=(8, 8),\n",
    "                      cmap= plt.cm.Blues,\n",
    "                      class_names= class_names,\n",
    "                      colorbar= True)\n",
    "disp = plt.title('Confusion Matrix of MLP Prediction')\n",
    "plt.show()"
   ]
  },
  {
   "cell_type": "code",
   "execution_count": 55,
   "metadata": {},
   "outputs": [
    {
     "name": "stdout",
     "output_type": "stream",
     "text": [
      "TP: 1263, FP: 477, TN: 6986, FN: 1043\n"
     ]
    }
   ],
   "source": [
    "TN = mat[0][0]\n",
    "FN = mat[1][0]\n",
    "TP = mat[1][1]\n",
    "FP = mat[0][1]\n",
    "print(f'TP: {TP}, FP: {FP}, TN: {TN}, FN: {FN}')"
   ]
  },
  {
   "cell_type": "markdown",
   "metadata": {},
   "source": [
    "### LR Model"
   ]
  },
  {
   "cell_type": "code",
   "execution_count": 56,
   "metadata": {},
   "outputs": [],
   "source": [
    "# Set time\n",
    "st_train = time.time()\n",
    "st_memTrain = psutil.Process(os.getpid()).memory_info().rss / (1024 * 1024)\n",
    "\n",
    "# Build model\n",
    "lr_base = LogisticRegression()\n",
    "lr_model = lr_base.fit(x_train_scaled, y_train)\n",
    "\n",
    "et_train = time.time()\n",
    "et_memTrain = psutil.Process(os.getpid()).memory_info().rss / (1024 * 1024)\n",
    "# Calculate\n",
    "runtime_train = et_train - st_train\n",
    "mem_train = et_memTrain - st_memTrain\n",
    "\n",
    "# Append to list\n",
    "training_time.append(runtime_train)\n",
    "memory_train.append(mem_train)"
   ]
  },
  {
   "cell_type": "code",
   "execution_count": 57,
   "metadata": {},
   "outputs": [],
   "source": [
    "# Set time\n",
    "st_test = time.time()\n",
    "st_memTest = psutil.Process(os.getpid()).memory_info().rss / (1024 * 1024)\n",
    "\n",
    "# Predict model\n",
    "y_pred5 = lr_model.predict(x_test_scaled)\n",
    "\n",
    "et_test = time.time()\n",
    "et_memTest = psutil.Process().memory_info().rss / (1024 * 1024)\n",
    "# Calculate\n",
    "runtime_test = et_test - st_test\n",
    "mem_test = et_memTest - st_memTest\n",
    "\n",
    "# Append to list\n",
    "testing_time.append(runtime_test)\n",
    "memory_test.append(mem_test)"
   ]
  },
  {
   "cell_type": "code",
   "execution_count": 58,
   "metadata": {},
   "outputs": [],
   "source": [
    "acc = accuracy_score(y_test, y_pred5)\n",
    "recall = recall_score(y_test, y_pred5, average='weighted')\n",
    "precision = precision_score(y_test, y_pred5, average='weighted')\n",
    "f1 = f1_score(y_test, y_pred5, average='weighted')"
   ]
  },
  {
   "cell_type": "code",
   "execution_count": 59,
   "metadata": {},
   "outputs": [
    {
     "name": "stdout",
     "output_type": "stream",
     "text": [
      "LR Model Baseline Accuracy: 82.3012\n",
      "LR Model Baseline Recall: 82.3012\n",
      "LR Model Baseline Precision: 81.0242\n",
      "LR Model Baseline F1-Score: 80.7996\n"
     ]
    }
   ],
   "source": [
    "print(f'LR Model Baseline Accuracy: {acc*100:.4f}')\n",
    "print(f'LR Model Baseline Recall: {recall*100:.4f}')\n",
    "print(f'LR Model Baseline Precision: {precision*100:.4f}')\n",
    "print(f'LR Model Baseline F1-Score: {f1*100:.4f}')"
   ]
  },
  {
   "cell_type": "code",
   "execution_count": 60,
   "metadata": {},
   "outputs": [
    {
     "data": {
      "image/png": "[encoded data removed]",
      "text/plain": [
       "<Figure size 576x576 with 2 Axes>"
      ]
     },
     "metadata": {
      "needs_background": "light"
     },
     "output_type": "display_data"
    }
   ],
   "source": [
    "# Plot cm matrix\n",
    "mat = confusion_matrix(y_test, y_pred5)\n",
    "fig6 , ax6 = plot_confusion_matrix(conf_mat= mat, figsize=(8, 8),\n",
    "                      cmap= plt.cm.Blues,\n",
    "                      class_names= class_names,\n",
    "                      colorbar= True)\n",
    "disp = plt.title('Confusion Matrix of LR Prediction')\n",
    "plt.show()"
   ]
  },
  {
   "cell_type": "code",
   "execution_count": 61,
   "metadata": {},
   "outputs": [
    {
     "name": "stdout",
     "output_type": "stream",
     "text": [
      "TP: 1021, FP: 444, TN: 7019, FN: 1285\n"
     ]
    }
   ],
   "source": [
    "TN = mat[0][0]\n",
    "FN = mat[1][0]\n",
    "TP = mat[1][1]\n",
    "FP = mat[0][1]\n",
    "print(f'TP: {TP}, FP: {FP}, TN: {TN}, FN: {FN}')"
   ]
  },
  {
   "cell_type": "markdown",
   "metadata": {},
   "source": [
    "### K-NN Model"
   ]
  },
  {
   "cell_type": "code",
   "execution_count": 62,
   "metadata": {},
   "outputs": [],
   "source": [
    "# Set time\n",
    "st_train = time.time()\n",
    "st_memTrain = psutil.Process(os.getpid()).memory_info().rss / (1024 * 1024)\n",
    "\n",
    "knn_base = KNeighborsClassifier(n_neighbors = 7)\n",
    "knn_model = knn_base.fit(x_train_scaled, y_train)\n",
    "\n",
    "et_train = time.time()\n",
    "et_memTrain = psutil.Process(os.getpid()).memory_info().rss / (1024 * 1024)\n",
    "# Calculate\n",
    "runtime_train = et_train - st_train\n",
    "mem_train = et_memTrain - st_memTrain\n",
    "\n",
    "# Append to list\n",
    "training_time.append(runtime_train)\n",
    "memory_train.append(mem_train)"
   ]
  },
  {
   "cell_type": "code",
   "execution_count": 63,
   "metadata": {},
   "outputs": [],
   "source": [
    "# Set time\n",
    "st_test = time.time()\n",
    "st_memTest = psutil.Process().memory_info().rss / (1024 * 1024)\n",
    "\n",
    "# Predict model\n",
    "y_pred6 = knn_model.predict(x_test_scaled)\n",
    "\n",
    "et_test = time.time()\n",
    "et_memTest = psutil.Process().memory_info().rss / (1024 * 1024)\n",
    "# Calculate\n",
    "runtime_test = et_test - st_test\n",
    "mem_test = et_memTest - st_memTest\n",
    "\n",
    "# Append to list\n",
    "testing_time.append(runtime_test)\n",
    "memory_test.append(mem_test)"
   ]
  },
  {
   "cell_type": "code",
   "execution_count": 64,
   "metadata": {},
   "outputs": [],
   "source": [
    "acc = accuracy_score(y_test, y_pred6)\n",
    "recall = recall_score(y_test, y_pred6, average='weighted')\n",
    "precision = precision_score(y_test, y_pred6, average='weighted')\n",
    "f1 = f1_score(y_test, y_pred6, average='weighted')"
   ]
  },
  {
   "cell_type": "code",
   "execution_count": 65,
   "metadata": {},
   "outputs": [
    {
     "name": "stdout",
     "output_type": "stream",
     "text": [
      "K-NN Model Baseline Accuracy: 83.1201\n",
      "K-NN Model Baseline Recall: 83.1201\n",
      "K-NN Model Baseline Precision: 82.6049\n",
      "K-NN Model Baseline F1-Score: 82.8066\n"
     ]
    }
   ],
   "source": [
    "print(f'K-NN Model Baseline Accuracy: {acc*100:.4f}')\n",
    "print(f'K-NN Model Baseline Recall: {recall*100:.4f}')\n",
    "print(f'K-NN Model Baseline Precision: {precision*100:.4f}')\n",
    "print(f'K-NN Model Baseline F1-Score: {f1*100:.4f}')"
   ]
  },
  {
   "cell_type": "code",
   "execution_count": 66,
   "metadata": {},
   "outputs": [
    {
     "data": {
      "image/png": "[encoded data removed]",
      "text/plain": [
       "<Figure size 576x576 with 2 Axes>"
      ]
     },
     "metadata": {
      "needs_background": "light"
     },
     "output_type": "display_data"
    }
   ],
   "source": [
    "# Plot cm matrix\n",
    "mat = confusion_matrix(y_test, y_pred5)\n",
    "fig7 , ax7 = plot_confusion_matrix(conf_mat= mat, figsize=(8, 8),\n",
    "                      cmap= plt.cm.Blues,\n",
    "                      class_names= class_names,\n",
    "                      colorbar= True)\n",
    "disp = plt.title('Confusion Matrix of K-NN Prediction')\n",
    "plt.show()"
   ]
  },
  {
   "cell_type": "code",
   "execution_count": 67,
   "metadata": {},
   "outputs": [
    {
     "name": "stdout",
     "output_type": "stream",
     "text": [
      "TP: 1021, FP: 444, TN: 7019, FN: 1285\n"
     ]
    }
   ],
   "source": [
    "TN = mat[0][0]\n",
    "FN = mat[1][0]\n",
    "TP = mat[1][1]\n",
    "FP = mat[0][1]\n",
    "print(f'TP: {TP}, FP: {FP}, TN: {TN}, FN: {FN}')"
   ]
  },
  {
   "cell_type": "code",
   "execution_count": 68,
   "metadata": {},
   "outputs": [
    {
     "name": "stdout",
     "output_type": "stream",
     "text": [
      "Training Time: 7.50 seconds\n",
      "Training Memory: 170.73 MB\n",
      "Training Time: 0.59 seconds\n",
      "Training Memory: 1.98 MB\n",
      "Training Time: 16.85 seconds\n",
      "Training Memory: -15.98 MB\n",
      "Training Time: 40.95 seconds\n",
      "Training Memory: 1.34 MB\n",
      "Training Time: 0.05 seconds\n",
      "Training Memory: 2.51 MB\n",
      "Training Time: 0.11 seconds\n",
      "Training Memory: 2.31 MB\n"
     ]
    }
   ],
   "source": [
    "for train_time, train_memory in zip(training_time, memory_train):\n",
    "    print(f'Training Time: {train_time:.2f} seconds')\n",
    "    print(f'Training Memory: {train_memory:.2f} MB')"
   ]
  },
  {
   "cell_type": "code",
   "execution_count": 69,
   "metadata": {},
   "outputs": [
    {
     "name": "stdout",
     "output_type": "stream",
     "text": [
      "Testing Time: 0.84 seconds\n",
      "Testing Memory: 170.73 MB\n",
      "Testing Time: 0.08 seconds\n",
      "Testing Memory: -0.43 MB\n",
      "Testing Time: 12.21 seconds\n",
      "Testing Memory: 0.30 MB\n",
      "Testing Time: 0.01 seconds\n",
      "Testing Memory: 0.00 MB\n",
      "Testing Time: 0.00 seconds\n",
      "Testing Memory: 0.00 MB\n",
      "Testing Time: 4.20 seconds\n",
      "Testing Memory: 0.48 MB\n"
     ]
    }
   ],
   "source": [
    "for test_time, test_memory in zip(testing_time, memory_test):\n",
    "    print(f'Testing Time: {test_time:.2f} seconds')\n",
    "    print(f'Testing Memory: {test_memory:.2f} MB')"
   ]
  },
  {
   "cell_type": "code",
   "execution_count": 70,
   "metadata": {},
   "outputs": [
    {
     "data": {
      "text/plain": [
       "['baseline_knn.pkl']"
      ]
     },
     "execution_count": 70,
     "metadata": {},
     "output_type": "execute_result"
    }
   ],
   "source": [
    "import joblib\n",
    "# Dump modelto pkl file\n",
    "joblib.dump(rf_model, 'baseline_rf.pkl')\n",
    "joblib.dump(lgbm_model, 'baseline_lgbm.pkl')\n",
    "joblib.dump(svm_model, 'baseline_svm.pkl')\n",
    "joblib.dump(mlp_model, 'baseline_mlp.pkl')\n",
    "joblib.dump(lr_model, 'baseline_lr.pkl')\n",
    "joblib.dump(knn_model, 'baseline_knn.pkl')"
   ]
  }
 ],
 "metadata": {
  "kernelspec": {
   "display_name": "intern",
   "language": "python",
   "name": "intern"
  },
  "language_info": {
   "codemirror_mode": {
    "name": "ipython",
    "version": 3
   },
   "file_extension": ".py",
   "mimetype": "text/x-python",
   "name": "python",
   "nbconvert_exporter": "python",
   "pygments_lexer": "ipython3",
   "version": "3.7.9"
  }
 },
 "nbformat": 4,
 "nbformat_minor": 4
}
